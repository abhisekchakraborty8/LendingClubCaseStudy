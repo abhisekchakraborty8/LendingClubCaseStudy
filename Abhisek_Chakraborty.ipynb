{
 "cells": [
  {
   "cell_type": "code",
   "execution_count": 1,
   "id": "f0dcf962",
   "metadata": {},
   "outputs": [],
   "source": [
    "## Business Objective\n",
    "# The consumer finance company wants to know what are the driving factors behind \n",
    "# loan default or the variables which are strong indicators of default. The company plans to use our\n",
    "# findings for portfolio risk assesment."
   ]
  },
  {
   "cell_type": "code",
   "execution_count": 2,
   "id": "828494e8",
   "metadata": {},
   "outputs": [],
   "source": [
    "import warnings\n",
    "import numpy as np\n",
    "import pandas as pd\n",
    "import matplotlib.pyplot as plt\n",
    "import seaborn as sns\n",
    "from scipy import stats\n",
    "from IPython.core.display import HTML\n",
    "%matplotlib inline\n",
    "warnings.filterwarnings('ignore') # This will ignore version mismatch warnings"
   ]
  },
  {
   "cell_type": "code",
   "execution_count": 3,
   "id": "90382d84",
   "metadata": {},
   "outputs": [],
   "source": [
    "#Reading the loan.csv file to start the analysis\n",
    "loan = pd.read_csv(\"F:\\LCCS\\loan.csv\")"
   ]
  },
  {
   "cell_type": "code",
   "execution_count": 4,
   "id": "be27cca3",
   "metadata": {},
   "outputs": [
    {
     "data": {
      "text/html": [
       "<div>\n",
       "<style scoped>\n",
       "    .dataframe tbody tr th:only-of-type {\n",
       "        vertical-align: middle;\n",
       "    }\n",
       "\n",
       "    .dataframe tbody tr th {\n",
       "        vertical-align: top;\n",
       "    }\n",
       "\n",
       "    .dataframe thead th {\n",
       "        text-align: right;\n",
       "    }\n",
       "</style>\n",
       "<table border=\"1\" class=\"dataframe\">\n",
       "  <thead>\n",
       "    <tr style=\"text-align: right;\">\n",
       "      <th></th>\n",
       "      <th>id</th>\n",
       "      <th>member_id</th>\n",
       "      <th>loan_amnt</th>\n",
       "      <th>funded_amnt</th>\n",
       "      <th>funded_amnt_inv</th>\n",
       "      <th>term</th>\n",
       "      <th>int_rate</th>\n",
       "      <th>installment</th>\n",
       "      <th>grade</th>\n",
       "      <th>sub_grade</th>\n",
       "      <th>...</th>\n",
       "      <th>num_tl_90g_dpd_24m</th>\n",
       "      <th>num_tl_op_past_12m</th>\n",
       "      <th>pct_tl_nvr_dlq</th>\n",
       "      <th>percent_bc_gt_75</th>\n",
       "      <th>pub_rec_bankruptcies</th>\n",
       "      <th>tax_liens</th>\n",
       "      <th>tot_hi_cred_lim</th>\n",
       "      <th>total_bal_ex_mort</th>\n",
       "      <th>total_bc_limit</th>\n",
       "      <th>total_il_high_credit_limit</th>\n",
       "    </tr>\n",
       "  </thead>\n",
       "  <tbody>\n",
       "    <tr>\n",
       "      <th>0</th>\n",
       "      <td>1077501</td>\n",
       "      <td>1296599</td>\n",
       "      <td>5000</td>\n",
       "      <td>5000</td>\n",
       "      <td>4975.0</td>\n",
       "      <td>36 months</td>\n",
       "      <td>10.65%</td>\n",
       "      <td>162.87</td>\n",
       "      <td>B</td>\n",
       "      <td>B2</td>\n",
       "      <td>...</td>\n",
       "      <td>NaN</td>\n",
       "      <td>NaN</td>\n",
       "      <td>NaN</td>\n",
       "      <td>NaN</td>\n",
       "      <td>0.0</td>\n",
       "      <td>0.0</td>\n",
       "      <td>NaN</td>\n",
       "      <td>NaN</td>\n",
       "      <td>NaN</td>\n",
       "      <td>NaN</td>\n",
       "    </tr>\n",
       "    <tr>\n",
       "      <th>1</th>\n",
       "      <td>1077430</td>\n",
       "      <td>1314167</td>\n",
       "      <td>2500</td>\n",
       "      <td>2500</td>\n",
       "      <td>2500.0</td>\n",
       "      <td>60 months</td>\n",
       "      <td>15.27%</td>\n",
       "      <td>59.83</td>\n",
       "      <td>C</td>\n",
       "      <td>C4</td>\n",
       "      <td>...</td>\n",
       "      <td>NaN</td>\n",
       "      <td>NaN</td>\n",
       "      <td>NaN</td>\n",
       "      <td>NaN</td>\n",
       "      <td>0.0</td>\n",
       "      <td>0.0</td>\n",
       "      <td>NaN</td>\n",
       "      <td>NaN</td>\n",
       "      <td>NaN</td>\n",
       "      <td>NaN</td>\n",
       "    </tr>\n",
       "    <tr>\n",
       "      <th>2</th>\n",
       "      <td>1077175</td>\n",
       "      <td>1313524</td>\n",
       "      <td>2400</td>\n",
       "      <td>2400</td>\n",
       "      <td>2400.0</td>\n",
       "      <td>36 months</td>\n",
       "      <td>15.96%</td>\n",
       "      <td>84.33</td>\n",
       "      <td>C</td>\n",
       "      <td>C5</td>\n",
       "      <td>...</td>\n",
       "      <td>NaN</td>\n",
       "      <td>NaN</td>\n",
       "      <td>NaN</td>\n",
       "      <td>NaN</td>\n",
       "      <td>0.0</td>\n",
       "      <td>0.0</td>\n",
       "      <td>NaN</td>\n",
       "      <td>NaN</td>\n",
       "      <td>NaN</td>\n",
       "      <td>NaN</td>\n",
       "    </tr>\n",
       "    <tr>\n",
       "      <th>3</th>\n",
       "      <td>1076863</td>\n",
       "      <td>1277178</td>\n",
       "      <td>10000</td>\n",
       "      <td>10000</td>\n",
       "      <td>10000.0</td>\n",
       "      <td>36 months</td>\n",
       "      <td>13.49%</td>\n",
       "      <td>339.31</td>\n",
       "      <td>C</td>\n",
       "      <td>C1</td>\n",
       "      <td>...</td>\n",
       "      <td>NaN</td>\n",
       "      <td>NaN</td>\n",
       "      <td>NaN</td>\n",
       "      <td>NaN</td>\n",
       "      <td>0.0</td>\n",
       "      <td>0.0</td>\n",
       "      <td>NaN</td>\n",
       "      <td>NaN</td>\n",
       "      <td>NaN</td>\n",
       "      <td>NaN</td>\n",
       "    </tr>\n",
       "    <tr>\n",
       "      <th>4</th>\n",
       "      <td>1075358</td>\n",
       "      <td>1311748</td>\n",
       "      <td>3000</td>\n",
       "      <td>3000</td>\n",
       "      <td>3000.0</td>\n",
       "      <td>60 months</td>\n",
       "      <td>12.69%</td>\n",
       "      <td>67.79</td>\n",
       "      <td>B</td>\n",
       "      <td>B5</td>\n",
       "      <td>...</td>\n",
       "      <td>NaN</td>\n",
       "      <td>NaN</td>\n",
       "      <td>NaN</td>\n",
       "      <td>NaN</td>\n",
       "      <td>0.0</td>\n",
       "      <td>0.0</td>\n",
       "      <td>NaN</td>\n",
       "      <td>NaN</td>\n",
       "      <td>NaN</td>\n",
       "      <td>NaN</td>\n",
       "    </tr>\n",
       "  </tbody>\n",
       "</table>\n",
       "<p>5 rows × 111 columns</p>\n",
       "</div>"
      ],
      "text/plain": [
       "        id  member_id  loan_amnt  funded_amnt  funded_amnt_inv        term  \\\n",
       "0  1077501    1296599       5000         5000           4975.0   36 months   \n",
       "1  1077430    1314167       2500         2500           2500.0   60 months   \n",
       "2  1077175    1313524       2400         2400           2400.0   36 months   \n",
       "3  1076863    1277178      10000        10000          10000.0   36 months   \n",
       "4  1075358    1311748       3000         3000           3000.0   60 months   \n",
       "\n",
       "  int_rate  installment grade sub_grade  ... num_tl_90g_dpd_24m  \\\n",
       "0   10.65%       162.87     B        B2  ...                NaN   \n",
       "1   15.27%        59.83     C        C4  ...                NaN   \n",
       "2   15.96%        84.33     C        C5  ...                NaN   \n",
       "3   13.49%       339.31     C        C1  ...                NaN   \n",
       "4   12.69%        67.79     B        B5  ...                NaN   \n",
       "\n",
       "  num_tl_op_past_12m pct_tl_nvr_dlq  percent_bc_gt_75 pub_rec_bankruptcies  \\\n",
       "0                NaN            NaN               NaN                  0.0   \n",
       "1                NaN            NaN               NaN                  0.0   \n",
       "2                NaN            NaN               NaN                  0.0   \n",
       "3                NaN            NaN               NaN                  0.0   \n",
       "4                NaN            NaN               NaN                  0.0   \n",
       "\n",
       "  tax_liens tot_hi_cred_lim total_bal_ex_mort total_bc_limit  \\\n",
       "0       0.0             NaN               NaN            NaN   \n",
       "1       0.0             NaN               NaN            NaN   \n",
       "2       0.0             NaN               NaN            NaN   \n",
       "3       0.0             NaN               NaN            NaN   \n",
       "4       0.0             NaN               NaN            NaN   \n",
       "\n",
       "  total_il_high_credit_limit  \n",
       "0                        NaN  \n",
       "1                        NaN  \n",
       "2                        NaN  \n",
       "3                        NaN  \n",
       "4                        NaN  \n",
       "\n",
       "[5 rows x 111 columns]"
      ]
     },
     "execution_count": 4,
     "metadata": {},
     "output_type": "execute_result"
    }
   ],
   "source": [
    "# Viewing the top 5 rows using head()\n",
    "loan.head()"
   ]
  },
  {
   "cell_type": "code",
   "execution_count": 5,
   "id": "d60752b8",
   "metadata": {},
   "outputs": [
    {
     "name": "stdout",
     "output_type": "stream",
     "text": [
      "<class 'pandas.core.frame.DataFrame'>\n",
      "RangeIndex: 39717 entries, 0 to 39716\n",
      "Columns: 111 entries, id to total_il_high_credit_limit\n",
      "dtypes: float64(74), int64(13), object(24)\n",
      "memory usage: 33.6+ MB\n"
     ]
    }
   ],
   "source": [
    "loan.info()"
   ]
  },
  {
   "cell_type": "code",
   "execution_count": 6,
   "id": "71c1eb04",
   "metadata": {},
   "outputs": [
    {
     "data": {
      "text/plain": [
       "(39717, 111)"
      ]
     },
     "execution_count": 6,
     "metadata": {},
     "output_type": "execute_result"
    }
   ],
   "source": [
    "loan.shape"
   ]
  },
  {
   "cell_type": "code",
   "execution_count": 7,
   "id": "a05896aa",
   "metadata": {},
   "outputs": [
    {
     "data": {
      "text/plain": [
       "Index(['id', 'member_id', 'loan_amnt', 'funded_amnt', 'funded_amnt_inv',\n",
       "       'term', 'int_rate', 'installment', 'grade', 'sub_grade',\n",
       "       ...\n",
       "       'num_tl_90g_dpd_24m', 'num_tl_op_past_12m', 'pct_tl_nvr_dlq',\n",
       "       'percent_bc_gt_75', 'pub_rec_bankruptcies', 'tax_liens',\n",
       "       'tot_hi_cred_lim', 'total_bal_ex_mort', 'total_bc_limit',\n",
       "       'total_il_high_credit_limit'],\n",
       "      dtype='object', length=111)"
      ]
     },
     "execution_count": 7,
     "metadata": {},
     "output_type": "execute_result"
    }
   ],
   "source": [
    "loan.columns"
   ]
  },
  {
   "cell_type": "code",
   "execution_count": 8,
   "id": "f5e0a8ce",
   "metadata": {},
   "outputs": [
    {
     "data": {
      "text/html": [
       "<div>\n",
       "<style scoped>\n",
       "    .dataframe tbody tr th:only-of-type {\n",
       "        vertical-align: middle;\n",
       "    }\n",
       "\n",
       "    .dataframe tbody tr th {\n",
       "        vertical-align: top;\n",
       "    }\n",
       "\n",
       "    .dataframe thead th {\n",
       "        text-align: right;\n",
       "    }\n",
       "</style>\n",
       "<table border=\"1\" class=\"dataframe\">\n",
       "  <thead>\n",
       "    <tr style=\"text-align: right;\">\n",
       "      <th></th>\n",
       "      <th>id</th>\n",
       "      <th>member_id</th>\n",
       "      <th>loan_amnt</th>\n",
       "      <th>funded_amnt</th>\n",
       "      <th>funded_amnt_inv</th>\n",
       "      <th>installment</th>\n",
       "      <th>annual_inc</th>\n",
       "      <th>dti</th>\n",
       "      <th>delinq_2yrs</th>\n",
       "      <th>inq_last_6mths</th>\n",
       "      <th>...</th>\n",
       "      <th>num_tl_90g_dpd_24m</th>\n",
       "      <th>num_tl_op_past_12m</th>\n",
       "      <th>pct_tl_nvr_dlq</th>\n",
       "      <th>percent_bc_gt_75</th>\n",
       "      <th>pub_rec_bankruptcies</th>\n",
       "      <th>tax_liens</th>\n",
       "      <th>tot_hi_cred_lim</th>\n",
       "      <th>total_bal_ex_mort</th>\n",
       "      <th>total_bc_limit</th>\n",
       "      <th>total_il_high_credit_limit</th>\n",
       "    </tr>\n",
       "  </thead>\n",
       "  <tbody>\n",
       "    <tr>\n",
       "      <th>count</th>\n",
       "      <td>3.971700e+04</td>\n",
       "      <td>3.971700e+04</td>\n",
       "      <td>39717.000000</td>\n",
       "      <td>39717.000000</td>\n",
       "      <td>39717.000000</td>\n",
       "      <td>39717.000000</td>\n",
       "      <td>3.971700e+04</td>\n",
       "      <td>39717.000000</td>\n",
       "      <td>39717.000000</td>\n",
       "      <td>39717.000000</td>\n",
       "      <td>...</td>\n",
       "      <td>0.0</td>\n",
       "      <td>0.0</td>\n",
       "      <td>0.0</td>\n",
       "      <td>0.0</td>\n",
       "      <td>39020.000000</td>\n",
       "      <td>39678.0</td>\n",
       "      <td>0.0</td>\n",
       "      <td>0.0</td>\n",
       "      <td>0.0</td>\n",
       "      <td>0.0</td>\n",
       "    </tr>\n",
       "    <tr>\n",
       "      <th>mean</th>\n",
       "      <td>6.831319e+05</td>\n",
       "      <td>8.504636e+05</td>\n",
       "      <td>11219.443815</td>\n",
       "      <td>10947.713196</td>\n",
       "      <td>10397.448868</td>\n",
       "      <td>324.561922</td>\n",
       "      <td>6.896893e+04</td>\n",
       "      <td>13.315130</td>\n",
       "      <td>0.146512</td>\n",
       "      <td>0.869200</td>\n",
       "      <td>...</td>\n",
       "      <td>NaN</td>\n",
       "      <td>NaN</td>\n",
       "      <td>NaN</td>\n",
       "      <td>NaN</td>\n",
       "      <td>0.043260</td>\n",
       "      <td>0.0</td>\n",
       "      <td>NaN</td>\n",
       "      <td>NaN</td>\n",
       "      <td>NaN</td>\n",
       "      <td>NaN</td>\n",
       "    </tr>\n",
       "    <tr>\n",
       "      <th>std</th>\n",
       "      <td>2.106941e+05</td>\n",
       "      <td>2.656783e+05</td>\n",
       "      <td>7456.670694</td>\n",
       "      <td>7187.238670</td>\n",
       "      <td>7128.450439</td>\n",
       "      <td>208.874874</td>\n",
       "      <td>6.379377e+04</td>\n",
       "      <td>6.678594</td>\n",
       "      <td>0.491812</td>\n",
       "      <td>1.070219</td>\n",
       "      <td>...</td>\n",
       "      <td>NaN</td>\n",
       "      <td>NaN</td>\n",
       "      <td>NaN</td>\n",
       "      <td>NaN</td>\n",
       "      <td>0.204324</td>\n",
       "      <td>0.0</td>\n",
       "      <td>NaN</td>\n",
       "      <td>NaN</td>\n",
       "      <td>NaN</td>\n",
       "      <td>NaN</td>\n",
       "    </tr>\n",
       "    <tr>\n",
       "      <th>min</th>\n",
       "      <td>5.473400e+04</td>\n",
       "      <td>7.069900e+04</td>\n",
       "      <td>500.000000</td>\n",
       "      <td>500.000000</td>\n",
       "      <td>0.000000</td>\n",
       "      <td>15.690000</td>\n",
       "      <td>4.000000e+03</td>\n",
       "      <td>0.000000</td>\n",
       "      <td>0.000000</td>\n",
       "      <td>0.000000</td>\n",
       "      <td>...</td>\n",
       "      <td>NaN</td>\n",
       "      <td>NaN</td>\n",
       "      <td>NaN</td>\n",
       "      <td>NaN</td>\n",
       "      <td>0.000000</td>\n",
       "      <td>0.0</td>\n",
       "      <td>NaN</td>\n",
       "      <td>NaN</td>\n",
       "      <td>NaN</td>\n",
       "      <td>NaN</td>\n",
       "    </tr>\n",
       "    <tr>\n",
       "      <th>25%</th>\n",
       "      <td>5.162210e+05</td>\n",
       "      <td>6.667800e+05</td>\n",
       "      <td>5500.000000</td>\n",
       "      <td>5400.000000</td>\n",
       "      <td>5000.000000</td>\n",
       "      <td>167.020000</td>\n",
       "      <td>4.040400e+04</td>\n",
       "      <td>8.170000</td>\n",
       "      <td>0.000000</td>\n",
       "      <td>0.000000</td>\n",
       "      <td>...</td>\n",
       "      <td>NaN</td>\n",
       "      <td>NaN</td>\n",
       "      <td>NaN</td>\n",
       "      <td>NaN</td>\n",
       "      <td>0.000000</td>\n",
       "      <td>0.0</td>\n",
       "      <td>NaN</td>\n",
       "      <td>NaN</td>\n",
       "      <td>NaN</td>\n",
       "      <td>NaN</td>\n",
       "    </tr>\n",
       "    <tr>\n",
       "      <th>50%</th>\n",
       "      <td>6.656650e+05</td>\n",
       "      <td>8.508120e+05</td>\n",
       "      <td>10000.000000</td>\n",
       "      <td>9600.000000</td>\n",
       "      <td>8975.000000</td>\n",
       "      <td>280.220000</td>\n",
       "      <td>5.900000e+04</td>\n",
       "      <td>13.400000</td>\n",
       "      <td>0.000000</td>\n",
       "      <td>1.000000</td>\n",
       "      <td>...</td>\n",
       "      <td>NaN</td>\n",
       "      <td>NaN</td>\n",
       "      <td>NaN</td>\n",
       "      <td>NaN</td>\n",
       "      <td>0.000000</td>\n",
       "      <td>0.0</td>\n",
       "      <td>NaN</td>\n",
       "      <td>NaN</td>\n",
       "      <td>NaN</td>\n",
       "      <td>NaN</td>\n",
       "    </tr>\n",
       "    <tr>\n",
       "      <th>75%</th>\n",
       "      <td>8.377550e+05</td>\n",
       "      <td>1.047339e+06</td>\n",
       "      <td>15000.000000</td>\n",
       "      <td>15000.000000</td>\n",
       "      <td>14400.000000</td>\n",
       "      <td>430.780000</td>\n",
       "      <td>8.230000e+04</td>\n",
       "      <td>18.600000</td>\n",
       "      <td>0.000000</td>\n",
       "      <td>1.000000</td>\n",
       "      <td>...</td>\n",
       "      <td>NaN</td>\n",
       "      <td>NaN</td>\n",
       "      <td>NaN</td>\n",
       "      <td>NaN</td>\n",
       "      <td>0.000000</td>\n",
       "      <td>0.0</td>\n",
       "      <td>NaN</td>\n",
       "      <td>NaN</td>\n",
       "      <td>NaN</td>\n",
       "      <td>NaN</td>\n",
       "    </tr>\n",
       "    <tr>\n",
       "      <th>max</th>\n",
       "      <td>1.077501e+06</td>\n",
       "      <td>1.314167e+06</td>\n",
       "      <td>35000.000000</td>\n",
       "      <td>35000.000000</td>\n",
       "      <td>35000.000000</td>\n",
       "      <td>1305.190000</td>\n",
       "      <td>6.000000e+06</td>\n",
       "      <td>29.990000</td>\n",
       "      <td>11.000000</td>\n",
       "      <td>8.000000</td>\n",
       "      <td>...</td>\n",
       "      <td>NaN</td>\n",
       "      <td>NaN</td>\n",
       "      <td>NaN</td>\n",
       "      <td>NaN</td>\n",
       "      <td>2.000000</td>\n",
       "      <td>0.0</td>\n",
       "      <td>NaN</td>\n",
       "      <td>NaN</td>\n",
       "      <td>NaN</td>\n",
       "      <td>NaN</td>\n",
       "    </tr>\n",
       "  </tbody>\n",
       "</table>\n",
       "<p>8 rows × 87 columns</p>\n",
       "</div>"
      ],
      "text/plain": [
       "                 id     member_id     loan_amnt   funded_amnt  \\\n",
       "count  3.971700e+04  3.971700e+04  39717.000000  39717.000000   \n",
       "mean   6.831319e+05  8.504636e+05  11219.443815  10947.713196   \n",
       "std    2.106941e+05  2.656783e+05   7456.670694   7187.238670   \n",
       "min    5.473400e+04  7.069900e+04    500.000000    500.000000   \n",
       "25%    5.162210e+05  6.667800e+05   5500.000000   5400.000000   \n",
       "50%    6.656650e+05  8.508120e+05  10000.000000   9600.000000   \n",
       "75%    8.377550e+05  1.047339e+06  15000.000000  15000.000000   \n",
       "max    1.077501e+06  1.314167e+06  35000.000000  35000.000000   \n",
       "\n",
       "       funded_amnt_inv   installment    annual_inc           dti  \\\n",
       "count     39717.000000  39717.000000  3.971700e+04  39717.000000   \n",
       "mean      10397.448868    324.561922  6.896893e+04     13.315130   \n",
       "std        7128.450439    208.874874  6.379377e+04      6.678594   \n",
       "min           0.000000     15.690000  4.000000e+03      0.000000   \n",
       "25%        5000.000000    167.020000  4.040400e+04      8.170000   \n",
       "50%        8975.000000    280.220000  5.900000e+04     13.400000   \n",
       "75%       14400.000000    430.780000  8.230000e+04     18.600000   \n",
       "max       35000.000000   1305.190000  6.000000e+06     29.990000   \n",
       "\n",
       "        delinq_2yrs  inq_last_6mths  ...  num_tl_90g_dpd_24m  \\\n",
       "count  39717.000000    39717.000000  ...                 0.0   \n",
       "mean       0.146512        0.869200  ...                 NaN   \n",
       "std        0.491812        1.070219  ...                 NaN   \n",
       "min        0.000000        0.000000  ...                 NaN   \n",
       "25%        0.000000        0.000000  ...                 NaN   \n",
       "50%        0.000000        1.000000  ...                 NaN   \n",
       "75%        0.000000        1.000000  ...                 NaN   \n",
       "max       11.000000        8.000000  ...                 NaN   \n",
       "\n",
       "       num_tl_op_past_12m  pct_tl_nvr_dlq  percent_bc_gt_75  \\\n",
       "count                 0.0             0.0               0.0   \n",
       "mean                  NaN             NaN               NaN   \n",
       "std                   NaN             NaN               NaN   \n",
       "min                   NaN             NaN               NaN   \n",
       "25%                   NaN             NaN               NaN   \n",
       "50%                   NaN             NaN               NaN   \n",
       "75%                   NaN             NaN               NaN   \n",
       "max                   NaN             NaN               NaN   \n",
       "\n",
       "       pub_rec_bankruptcies  tax_liens  tot_hi_cred_lim  total_bal_ex_mort  \\\n",
       "count          39020.000000    39678.0              0.0                0.0   \n",
       "mean               0.043260        0.0              NaN                NaN   \n",
       "std                0.204324        0.0              NaN                NaN   \n",
       "min                0.000000        0.0              NaN                NaN   \n",
       "25%                0.000000        0.0              NaN                NaN   \n",
       "50%                0.000000        0.0              NaN                NaN   \n",
       "75%                0.000000        0.0              NaN                NaN   \n",
       "max                2.000000        0.0              NaN                NaN   \n",
       "\n",
       "       total_bc_limit  total_il_high_credit_limit  \n",
       "count             0.0                         0.0  \n",
       "mean              NaN                         NaN  \n",
       "std               NaN                         NaN  \n",
       "min               NaN                         NaN  \n",
       "25%               NaN                         NaN  \n",
       "50%               NaN                         NaN  \n",
       "75%               NaN                         NaN  \n",
       "max               NaN                         NaN  \n",
       "\n",
       "[8 rows x 87 columns]"
      ]
     },
     "execution_count": 8,
     "metadata": {},
     "output_type": "execute_result"
    }
   ],
   "source": [
    "loan.describe()"
   ]
  },
  {
   "cell_type": "code",
   "execution_count": 9,
   "id": "27a70a05",
   "metadata": {},
   "outputs": [],
   "source": [
    "#Cleaning the data"
   ]
  },
  {
   "cell_type": "code",
   "execution_count": 10,
   "id": "f9277bd5",
   "metadata": {},
   "outputs": [
    {
     "data": {
      "text/plain": [
       "id                                0\n",
       "member_id                         0\n",
       "loan_amnt                         0\n",
       "funded_amnt                       0\n",
       "funded_amnt_inv                   0\n",
       "                              ...  \n",
       "tax_liens                        39\n",
       "tot_hi_cred_lim               39717\n",
       "total_bal_ex_mort             39717\n",
       "total_bc_limit                39717\n",
       "total_il_high_credit_limit    39717\n",
       "Length: 111, dtype: int64"
      ]
     },
     "execution_count": 10,
     "metadata": {},
     "output_type": "execute_result"
    }
   ],
   "source": [
    "loan.isnull().sum()"
   ]
  },
  {
   "cell_type": "code",
   "execution_count": 11,
   "id": "d29a7662",
   "metadata": {},
   "outputs": [],
   "source": [
    "# We see that the last few columns are blank"
   ]
  },
  {
   "cell_type": "code",
   "execution_count": 12,
   "id": "350d3154",
   "metadata": {},
   "outputs": [
    {
     "data": {
      "text/plain": [
       "id                              0.000000\n",
       "member_id                       0.000000\n",
       "loan_amnt                       0.000000\n",
       "funded_amnt                     0.000000\n",
       "funded_amnt_inv                 0.000000\n",
       "                                 ...    \n",
       "tax_liens                       0.098195\n",
       "tot_hi_cred_lim               100.000000\n",
       "total_bal_ex_mort             100.000000\n",
       "total_bc_limit                100.000000\n",
       "total_il_high_credit_limit    100.000000\n",
       "Length: 111, dtype: float64"
      ]
     },
     "execution_count": 12,
     "metadata": {},
     "output_type": "execute_result"
    }
   ],
   "source": [
    "100*(loan.isnull().sum()/len(loan.index)) #checking the % null values in each column"
   ]
  },
  {
   "cell_type": "code",
   "execution_count": 13,
   "id": "713184b0",
   "metadata": {},
   "outputs": [],
   "source": [
    "mis_columns=loan.columns[100*(loan.isnull().sum()/len(loan.index))>90]"
   ]
  },
  {
   "cell_type": "code",
   "execution_count": 14,
   "id": "e4bba716",
   "metadata": {},
   "outputs": [
    {
     "name": "stdout",
     "output_type": "stream",
     "text": [
      "Index(['mths_since_last_record', 'next_pymnt_d', 'mths_since_last_major_derog',\n",
      "       'annual_inc_joint', 'dti_joint', 'verification_status_joint',\n",
      "       'tot_coll_amt', 'tot_cur_bal', 'open_acc_6m', 'open_il_6m',\n",
      "       'open_il_12m', 'open_il_24m', 'mths_since_rcnt_il', 'total_bal_il',\n",
      "       'il_util', 'open_rv_12m', 'open_rv_24m', 'max_bal_bc', 'all_util',\n",
      "       'total_rev_hi_lim', 'inq_fi', 'total_cu_tl', 'inq_last_12m',\n",
      "       'acc_open_past_24mths', 'avg_cur_bal', 'bc_open_to_buy', 'bc_util',\n",
      "       'mo_sin_old_il_acct', 'mo_sin_old_rev_tl_op', 'mo_sin_rcnt_rev_tl_op',\n",
      "       'mo_sin_rcnt_tl', 'mort_acc', 'mths_since_recent_bc',\n",
      "       'mths_since_recent_bc_dlq', 'mths_since_recent_inq',\n",
      "       'mths_since_recent_revol_delinq', 'num_accts_ever_120_pd',\n",
      "       'num_actv_bc_tl', 'num_actv_rev_tl', 'num_bc_sats', 'num_bc_tl',\n",
      "       'num_il_tl', 'num_op_rev_tl', 'num_rev_accts', 'num_rev_tl_bal_gt_0',\n",
      "       'num_sats', 'num_tl_120dpd_2m', 'num_tl_30dpd', 'num_tl_90g_dpd_24m',\n",
      "       'num_tl_op_past_12m', 'pct_tl_nvr_dlq', 'percent_bc_gt_75',\n",
      "       'tot_hi_cred_lim', 'total_bal_ex_mort', 'total_bc_limit',\n",
      "       'total_il_high_credit_limit'],\n",
      "      dtype='object')\n"
     ]
    }
   ],
   "source": [
    "print(mis_columns)"
   ]
  },
  {
   "cell_type": "code",
   "execution_count": 15,
   "id": "8d79b85f",
   "metadata": {},
   "outputs": [],
   "source": [
    "#Now lets drop all the columns with missing or no data"
   ]
  },
  {
   "cell_type": "code",
   "execution_count": 16,
   "id": "085e911f",
   "metadata": {},
   "outputs": [],
   "source": [
    "df= loan.drop(mis_columns,axis=1)"
   ]
  },
  {
   "cell_type": "code",
   "execution_count": 17,
   "id": "da4cfe93",
   "metadata": {},
   "outputs": [
    {
     "data": {
      "text/plain": [
       "(39717, 55)"
      ]
     },
     "execution_count": 17,
     "metadata": {},
     "output_type": "execute_result"
    }
   ],
   "source": [
    "df.shape"
   ]
  },
  {
   "cell_type": "code",
   "execution_count": 18,
   "id": "78e9dd60",
   "metadata": {},
   "outputs": [
    {
     "data": {
      "text/plain": [
       "id                                0\n",
       "member_id                         0\n",
       "loan_amnt                         0\n",
       "funded_amnt                       0\n",
       "funded_amnt_inv                   0\n",
       "term                              0\n",
       "int_rate                          0\n",
       "installment                       0\n",
       "grade                             0\n",
       "sub_grade                         0\n",
       "emp_title                      2459\n",
       "emp_length                     1075\n",
       "home_ownership                    0\n",
       "annual_inc                        0\n",
       "verification_status               0\n",
       "issue_d                           0\n",
       "loan_status                       0\n",
       "pymnt_plan                        0\n",
       "url                               0\n",
       "desc                          12940\n",
       "purpose                           0\n",
       "title                            11\n",
       "zip_code                          0\n",
       "addr_state                        0\n",
       "dti                               0\n",
       "delinq_2yrs                       0\n",
       "earliest_cr_line                  0\n",
       "inq_last_6mths                    0\n",
       "mths_since_last_delinq        25682\n",
       "open_acc                          0\n",
       "pub_rec                           0\n",
       "revol_bal                         0\n",
       "revol_util                       50\n",
       "total_acc                         0\n",
       "initial_list_status               0\n",
       "out_prncp                         0\n",
       "out_prncp_inv                     0\n",
       "total_pymnt                       0\n",
       "total_pymnt_inv                   0\n",
       "total_rec_prncp                   0\n",
       "total_rec_int                     0\n",
       "total_rec_late_fee                0\n",
       "recoveries                        0\n",
       "collection_recovery_fee           0\n",
       "last_pymnt_d                     71\n",
       "last_pymnt_amnt                   0\n",
       "last_credit_pull_d                2\n",
       "collections_12_mths_ex_med       56\n",
       "policy_code                       0\n",
       "application_type                  0\n",
       "acc_now_delinq                    0\n",
       "chargeoff_within_12_mths         56\n",
       "delinq_amnt                       0\n",
       "pub_rec_bankruptcies            697\n",
       "tax_liens                        39\n",
       "dtype: int64"
      ]
     },
     "execution_count": 18,
     "metadata": {},
     "output_type": "execute_result"
    }
   ],
   "source": [
    "df.isnull().sum()"
   ]
  },
  {
   "cell_type": "code",
   "execution_count": 19,
   "id": "ad3e0f32",
   "metadata": {},
   "outputs": [
    {
     "data": {
      "text/plain": [
       "id                             0.000000\n",
       "member_id                      0.000000\n",
       "loan_amnt                      0.000000\n",
       "funded_amnt                    0.000000\n",
       "funded_amnt_inv                0.000000\n",
       "term                           0.000000\n",
       "int_rate                       0.000000\n",
       "installment                    0.000000\n",
       "grade                          0.000000\n",
       "sub_grade                      0.000000\n",
       "emp_title                      6.191303\n",
       "emp_length                     2.706650\n",
       "home_ownership                 0.000000\n",
       "annual_inc                     0.000000\n",
       "verification_status            0.000000\n",
       "issue_d                        0.000000\n",
       "loan_status                    0.000000\n",
       "pymnt_plan                     0.000000\n",
       "url                            0.000000\n",
       "desc                          32.580507\n",
       "purpose                        0.000000\n",
       "title                          0.027696\n",
       "zip_code                       0.000000\n",
       "addr_state                     0.000000\n",
       "dti                            0.000000\n",
       "delinq_2yrs                    0.000000\n",
       "earliest_cr_line               0.000000\n",
       "inq_last_6mths                 0.000000\n",
       "mths_since_last_delinq        64.662487\n",
       "open_acc                       0.000000\n",
       "pub_rec                        0.000000\n",
       "revol_bal                      0.000000\n",
       "revol_util                     0.125891\n",
       "total_acc                      0.000000\n",
       "initial_list_status            0.000000\n",
       "out_prncp                      0.000000\n",
       "out_prncp_inv                  0.000000\n",
       "total_pymnt                    0.000000\n",
       "total_pymnt_inv                0.000000\n",
       "total_rec_prncp                0.000000\n",
       "total_rec_int                  0.000000\n",
       "total_rec_late_fee             0.000000\n",
       "recoveries                     0.000000\n",
       "collection_recovery_fee        0.000000\n",
       "last_pymnt_d                   0.178765\n",
       "last_pymnt_amnt                0.000000\n",
       "last_credit_pull_d             0.005036\n",
       "collections_12_mths_ex_med     0.140998\n",
       "policy_code                    0.000000\n",
       "application_type               0.000000\n",
       "acc_now_delinq                 0.000000\n",
       "chargeoff_within_12_mths       0.140998\n",
       "delinq_amnt                    0.000000\n",
       "pub_rec_bankruptcies           1.754916\n",
       "tax_liens                      0.098195\n",
       "dtype: float64"
      ]
     },
     "execution_count": 19,
     "metadata": {},
     "output_type": "execute_result"
    }
   ],
   "source": [
    "100*(df.isnull().sum()/len(df.index)) #checking the % null values in each column"
   ]
  },
  {
   "cell_type": "code",
   "execution_count": 20,
   "id": "a48a74e7",
   "metadata": {},
   "outputs": [],
   "source": [
    "# mths_since_last_delinq field is the months since last default (Need to decide to use this column or not as 64% null values)"
   ]
  },
  {
   "cell_type": "code",
   "execution_count": 21,
   "id": "41db0eab",
   "metadata": {},
   "outputs": [],
   "source": [
    "df=df.drop(['desc'], axis=1) # dropping 'desc' column as we dont need description"
   ]
  },
  {
   "cell_type": "code",
   "execution_count": 22,
   "id": "71ac5131",
   "metadata": {},
   "outputs": [
    {
     "data": {
      "text/plain": [
       "(39717, 54)"
      ]
     },
     "execution_count": 22,
     "metadata": {},
     "output_type": "execute_result"
    }
   ],
   "source": [
    "df.shape"
   ]
  },
  {
   "cell_type": "code",
   "execution_count": 23,
   "id": "6d7bedb6",
   "metadata": {},
   "outputs": [
    {
     "data": {
      "text/plain": [
       "0        2\n",
       "1        1\n",
       "2        2\n",
       "3        0\n",
       "4        0\n",
       "        ..\n",
       "39712    4\n",
       "39713    4\n",
       "39714    5\n",
       "39715    5\n",
       "39716    4\n",
       "Length: 39717, dtype: int64"
      ]
     },
     "execution_count": 23,
     "metadata": {},
     "output_type": "execute_result"
    }
   ],
   "source": [
    "#missing values in rows\n",
    "df.isnull().sum(axis=1)"
   ]
  },
  {
   "cell_type": "code",
   "execution_count": 24,
   "id": "d4423224",
   "metadata": {},
   "outputs": [
    {
     "data": {
      "text/plain": [
       "2"
      ]
     },
     "execution_count": 24,
     "metadata": {},
     "output_type": "execute_result"
    }
   ],
   "source": [
    "len(df[df.isnull().sum(axis=1)>5].index) #checking how many rows have more than 5 null values"
   ]
  },
  {
   "cell_type": "code",
   "execution_count": 25,
   "id": "0fda34c5",
   "metadata": {},
   "outputs": [],
   "source": [
    "df= df.drop(df[df.isnull().sum(axis=1)>5].index, axis=0) #Dropping the rows which has more than 5 null values"
   ]
  },
  {
   "cell_type": "code",
   "execution_count": 26,
   "id": "56d040fd",
   "metadata": {},
   "outputs": [
    {
     "data": {
      "text/plain": [
       "0"
      ]
     },
     "execution_count": 26,
     "metadata": {},
     "output_type": "execute_result"
    }
   ],
   "source": [
    "len(df[df.isnull().sum(axis=1)>5].index)"
   ]
  },
  {
   "cell_type": "code",
   "execution_count": 27,
   "id": "8be85d10",
   "metadata": {},
   "outputs": [
    {
     "name": "stdout",
     "output_type": "stream",
     "text": [
      "<class 'pandas.core.frame.DataFrame'>\n",
      "Int64Index: 39715 entries, 0 to 39716\n",
      "Data columns (total 54 columns):\n",
      " #   Column                      Non-Null Count  Dtype  \n",
      "---  ------                      --------------  -----  \n",
      " 0   id                          39715 non-null  int64  \n",
      " 1   member_id                   39715 non-null  int64  \n",
      " 2   loan_amnt                   39715 non-null  int64  \n",
      " 3   funded_amnt                 39715 non-null  int64  \n",
      " 4   funded_amnt_inv             39715 non-null  float64\n",
      " 5   term                        39715 non-null  object \n",
      " 6   int_rate                    39715 non-null  object \n",
      " 7   installment                 39715 non-null  float64\n",
      " 8   grade                       39715 non-null  object \n",
      " 9   sub_grade                   39715 non-null  object \n",
      " 10  emp_title                   37258 non-null  object \n",
      " 11  emp_length                  38640 non-null  object \n",
      " 12  home_ownership              39715 non-null  object \n",
      " 13  annual_inc                  39715 non-null  float64\n",
      " 14  verification_status         39715 non-null  object \n",
      " 15  issue_d                     39715 non-null  object \n",
      " 16  loan_status                 39715 non-null  object \n",
      " 17  pymnt_plan                  39715 non-null  object \n",
      " 18  url                         39715 non-null  object \n",
      " 19  purpose                     39715 non-null  object \n",
      " 20  title                       39704 non-null  object \n",
      " 21  zip_code                    39715 non-null  object \n",
      " 22  addr_state                  39715 non-null  object \n",
      " 23  dti                         39715 non-null  float64\n",
      " 24  delinq_2yrs                 39715 non-null  int64  \n",
      " 25  earliest_cr_line            39715 non-null  object \n",
      " 26  inq_last_6mths              39715 non-null  int64  \n",
      " 27  mths_since_last_delinq      14035 non-null  float64\n",
      " 28  open_acc                    39715 non-null  int64  \n",
      " 29  pub_rec                     39715 non-null  int64  \n",
      " 30  revol_bal                   39715 non-null  int64  \n",
      " 31  revol_util                  39665 non-null  object \n",
      " 32  total_acc                   39715 non-null  int64  \n",
      " 33  initial_list_status         39715 non-null  object \n",
      " 34  out_prncp                   39715 non-null  float64\n",
      " 35  out_prncp_inv               39715 non-null  float64\n",
      " 36  total_pymnt                 39715 non-null  float64\n",
      " 37  total_pymnt_inv             39715 non-null  float64\n",
      " 38  total_rec_prncp             39715 non-null  float64\n",
      " 39  total_rec_int               39715 non-null  float64\n",
      " 40  total_rec_late_fee          39715 non-null  float64\n",
      " 41  recoveries                  39715 non-null  float64\n",
      " 42  collection_recovery_fee     39715 non-null  float64\n",
      " 43  last_pymnt_d                39644 non-null  object \n",
      " 44  last_pymnt_amnt             39715 non-null  float64\n",
      " 45  last_credit_pull_d          39713 non-null  object \n",
      " 46  collections_12_mths_ex_med  39661 non-null  float64\n",
      " 47  policy_code                 39715 non-null  int64  \n",
      " 48  application_type            39715 non-null  object \n",
      " 49  acc_now_delinq              39715 non-null  int64  \n",
      " 50  chargeoff_within_12_mths    39661 non-null  float64\n",
      " 51  delinq_amnt                 39715 non-null  int64  \n",
      " 52  pub_rec_bankruptcies        39020 non-null  float64\n",
      " 53  tax_liens                   39678 non-null  float64\n",
      "dtypes: float64(19), int64(13), object(22)\n",
      "memory usage: 16.7+ MB\n"
     ]
    }
   ],
   "source": [
    "df.info()"
   ]
  },
  {
   "cell_type": "code",
   "execution_count": 28,
   "id": "f51b98b6",
   "metadata": {},
   "outputs": [],
   "source": [
    "# As int_rate is an object we need to convert it into a float as we need it"
   ]
  },
  {
   "cell_type": "code",
   "execution_count": 29,
   "id": "e8254501",
   "metadata": {},
   "outputs": [],
   "source": [
    "df['int_rate'] = df['int_rate'].apply(lambda x: pd.to_numeric(x.split('%')[0]))"
   ]
  },
  {
   "cell_type": "code",
   "execution_count": 30,
   "id": "e555dbd1",
   "metadata": {},
   "outputs": [
    {
     "data": {
      "text/html": [
       "<div>\n",
       "<style scoped>\n",
       "    .dataframe tbody tr th:only-of-type {\n",
       "        vertical-align: middle;\n",
       "    }\n",
       "\n",
       "    .dataframe tbody tr th {\n",
       "        vertical-align: top;\n",
       "    }\n",
       "\n",
       "    .dataframe thead th {\n",
       "        text-align: right;\n",
       "    }\n",
       "</style>\n",
       "<table border=\"1\" class=\"dataframe\">\n",
       "  <thead>\n",
       "    <tr style=\"text-align: right;\">\n",
       "      <th></th>\n",
       "      <th>id</th>\n",
       "      <th>member_id</th>\n",
       "      <th>loan_amnt</th>\n",
       "      <th>funded_amnt</th>\n",
       "      <th>funded_amnt_inv</th>\n",
       "      <th>term</th>\n",
       "      <th>int_rate</th>\n",
       "      <th>installment</th>\n",
       "      <th>grade</th>\n",
       "      <th>sub_grade</th>\n",
       "      <th>...</th>\n",
       "      <th>last_pymnt_amnt</th>\n",
       "      <th>last_credit_pull_d</th>\n",
       "      <th>collections_12_mths_ex_med</th>\n",
       "      <th>policy_code</th>\n",
       "      <th>application_type</th>\n",
       "      <th>acc_now_delinq</th>\n",
       "      <th>chargeoff_within_12_mths</th>\n",
       "      <th>delinq_amnt</th>\n",
       "      <th>pub_rec_bankruptcies</th>\n",
       "      <th>tax_liens</th>\n",
       "    </tr>\n",
       "  </thead>\n",
       "  <tbody>\n",
       "    <tr>\n",
       "      <th>0</th>\n",
       "      <td>1077501</td>\n",
       "      <td>1296599</td>\n",
       "      <td>5000</td>\n",
       "      <td>5000</td>\n",
       "      <td>4975.0</td>\n",
       "      <td>36 months</td>\n",
       "      <td>10.65</td>\n",
       "      <td>162.87</td>\n",
       "      <td>B</td>\n",
       "      <td>B2</td>\n",
       "      <td>...</td>\n",
       "      <td>171.62</td>\n",
       "      <td>May-16</td>\n",
       "      <td>0.0</td>\n",
       "      <td>1</td>\n",
       "      <td>INDIVIDUAL</td>\n",
       "      <td>0</td>\n",
       "      <td>0.0</td>\n",
       "      <td>0</td>\n",
       "      <td>0.0</td>\n",
       "      <td>0.0</td>\n",
       "    </tr>\n",
       "    <tr>\n",
       "      <th>1</th>\n",
       "      <td>1077430</td>\n",
       "      <td>1314167</td>\n",
       "      <td>2500</td>\n",
       "      <td>2500</td>\n",
       "      <td>2500.0</td>\n",
       "      <td>60 months</td>\n",
       "      <td>15.27</td>\n",
       "      <td>59.83</td>\n",
       "      <td>C</td>\n",
       "      <td>C4</td>\n",
       "      <td>...</td>\n",
       "      <td>119.66</td>\n",
       "      <td>Sep-13</td>\n",
       "      <td>0.0</td>\n",
       "      <td>1</td>\n",
       "      <td>INDIVIDUAL</td>\n",
       "      <td>0</td>\n",
       "      <td>0.0</td>\n",
       "      <td>0</td>\n",
       "      <td>0.0</td>\n",
       "      <td>0.0</td>\n",
       "    </tr>\n",
       "    <tr>\n",
       "      <th>2</th>\n",
       "      <td>1077175</td>\n",
       "      <td>1313524</td>\n",
       "      <td>2400</td>\n",
       "      <td>2400</td>\n",
       "      <td>2400.0</td>\n",
       "      <td>36 months</td>\n",
       "      <td>15.96</td>\n",
       "      <td>84.33</td>\n",
       "      <td>C</td>\n",
       "      <td>C5</td>\n",
       "      <td>...</td>\n",
       "      <td>649.91</td>\n",
       "      <td>May-16</td>\n",
       "      <td>0.0</td>\n",
       "      <td>1</td>\n",
       "      <td>INDIVIDUAL</td>\n",
       "      <td>0</td>\n",
       "      <td>0.0</td>\n",
       "      <td>0</td>\n",
       "      <td>0.0</td>\n",
       "      <td>0.0</td>\n",
       "    </tr>\n",
       "    <tr>\n",
       "      <th>3</th>\n",
       "      <td>1076863</td>\n",
       "      <td>1277178</td>\n",
       "      <td>10000</td>\n",
       "      <td>10000</td>\n",
       "      <td>10000.0</td>\n",
       "      <td>36 months</td>\n",
       "      <td>13.49</td>\n",
       "      <td>339.31</td>\n",
       "      <td>C</td>\n",
       "      <td>C1</td>\n",
       "      <td>...</td>\n",
       "      <td>357.48</td>\n",
       "      <td>Apr-16</td>\n",
       "      <td>0.0</td>\n",
       "      <td>1</td>\n",
       "      <td>INDIVIDUAL</td>\n",
       "      <td>0</td>\n",
       "      <td>0.0</td>\n",
       "      <td>0</td>\n",
       "      <td>0.0</td>\n",
       "      <td>0.0</td>\n",
       "    </tr>\n",
       "    <tr>\n",
       "      <th>4</th>\n",
       "      <td>1075358</td>\n",
       "      <td>1311748</td>\n",
       "      <td>3000</td>\n",
       "      <td>3000</td>\n",
       "      <td>3000.0</td>\n",
       "      <td>60 months</td>\n",
       "      <td>12.69</td>\n",
       "      <td>67.79</td>\n",
       "      <td>B</td>\n",
       "      <td>B5</td>\n",
       "      <td>...</td>\n",
       "      <td>67.79</td>\n",
       "      <td>May-16</td>\n",
       "      <td>0.0</td>\n",
       "      <td>1</td>\n",
       "      <td>INDIVIDUAL</td>\n",
       "      <td>0</td>\n",
       "      <td>0.0</td>\n",
       "      <td>0</td>\n",
       "      <td>0.0</td>\n",
       "      <td>0.0</td>\n",
       "    </tr>\n",
       "  </tbody>\n",
       "</table>\n",
       "<p>5 rows × 54 columns</p>\n",
       "</div>"
      ],
      "text/plain": [
       "        id  member_id  loan_amnt  funded_amnt  funded_amnt_inv        term  \\\n",
       "0  1077501    1296599       5000         5000           4975.0   36 months   \n",
       "1  1077430    1314167       2500         2500           2500.0   60 months   \n",
       "2  1077175    1313524       2400         2400           2400.0   36 months   \n",
       "3  1076863    1277178      10000        10000          10000.0   36 months   \n",
       "4  1075358    1311748       3000         3000           3000.0   60 months   \n",
       "\n",
       "   int_rate  installment grade sub_grade  ... last_pymnt_amnt  \\\n",
       "0     10.65       162.87     B        B2  ...          171.62   \n",
       "1     15.27        59.83     C        C4  ...          119.66   \n",
       "2     15.96        84.33     C        C5  ...          649.91   \n",
       "3     13.49       339.31     C        C1  ...          357.48   \n",
       "4     12.69        67.79     B        B5  ...           67.79   \n",
       "\n",
       "  last_credit_pull_d collections_12_mths_ex_med  policy_code application_type  \\\n",
       "0             May-16                        0.0            1       INDIVIDUAL   \n",
       "1             Sep-13                        0.0            1       INDIVIDUAL   \n",
       "2             May-16                        0.0            1       INDIVIDUAL   \n",
       "3             Apr-16                        0.0            1       INDIVIDUAL   \n",
       "4             May-16                        0.0            1       INDIVIDUAL   \n",
       "\n",
       "  acc_now_delinq chargeoff_within_12_mths delinq_amnt pub_rec_bankruptcies  \\\n",
       "0              0                      0.0           0                  0.0   \n",
       "1              0                      0.0           0                  0.0   \n",
       "2              0                      0.0           0                  0.0   \n",
       "3              0                      0.0           0                  0.0   \n",
       "4              0                      0.0           0                  0.0   \n",
       "\n",
       "  tax_liens  \n",
       "0       0.0  \n",
       "1       0.0  \n",
       "2       0.0  \n",
       "3       0.0  \n",
       "4       0.0  \n",
       "\n",
       "[5 rows x 54 columns]"
      ]
     },
     "execution_count": 30,
     "metadata": {},
     "output_type": "execute_result"
    }
   ],
   "source": [
    "df.head() "
   ]
  },
  {
   "cell_type": "code",
   "execution_count": 31,
   "id": "e415f049",
   "metadata": {},
   "outputs": [
    {
     "name": "stdout",
     "output_type": "stream",
     "text": [
      "<class 'pandas.core.frame.DataFrame'>\n",
      "Int64Index: 39715 entries, 0 to 39716\n",
      "Data columns (total 54 columns):\n",
      " #   Column                      Non-Null Count  Dtype  \n",
      "---  ------                      --------------  -----  \n",
      " 0   id                          39715 non-null  int64  \n",
      " 1   member_id                   39715 non-null  int64  \n",
      " 2   loan_amnt                   39715 non-null  int64  \n",
      " 3   funded_amnt                 39715 non-null  int64  \n",
      " 4   funded_amnt_inv             39715 non-null  float64\n",
      " 5   term                        39715 non-null  object \n",
      " 6   int_rate                    39715 non-null  float64\n",
      " 7   installment                 39715 non-null  float64\n",
      " 8   grade                       39715 non-null  object \n",
      " 9   sub_grade                   39715 non-null  object \n",
      " 10  emp_title                   37258 non-null  object \n",
      " 11  emp_length                  38640 non-null  object \n",
      " 12  home_ownership              39715 non-null  object \n",
      " 13  annual_inc                  39715 non-null  float64\n",
      " 14  verification_status         39715 non-null  object \n",
      " 15  issue_d                     39715 non-null  object \n",
      " 16  loan_status                 39715 non-null  object \n",
      " 17  pymnt_plan                  39715 non-null  object \n",
      " 18  url                         39715 non-null  object \n",
      " 19  purpose                     39715 non-null  object \n",
      " 20  title                       39704 non-null  object \n",
      " 21  zip_code                    39715 non-null  object \n",
      " 22  addr_state                  39715 non-null  object \n",
      " 23  dti                         39715 non-null  float64\n",
      " 24  delinq_2yrs                 39715 non-null  int64  \n",
      " 25  earliest_cr_line            39715 non-null  object \n",
      " 26  inq_last_6mths              39715 non-null  int64  \n",
      " 27  mths_since_last_delinq      14035 non-null  float64\n",
      " 28  open_acc                    39715 non-null  int64  \n",
      " 29  pub_rec                     39715 non-null  int64  \n",
      " 30  revol_bal                   39715 non-null  int64  \n",
      " 31  revol_util                  39665 non-null  object \n",
      " 32  total_acc                   39715 non-null  int64  \n",
      " 33  initial_list_status         39715 non-null  object \n",
      " 34  out_prncp                   39715 non-null  float64\n",
      " 35  out_prncp_inv               39715 non-null  float64\n",
      " 36  total_pymnt                 39715 non-null  float64\n",
      " 37  total_pymnt_inv             39715 non-null  float64\n",
      " 38  total_rec_prncp             39715 non-null  float64\n",
      " 39  total_rec_int               39715 non-null  float64\n",
      " 40  total_rec_late_fee          39715 non-null  float64\n",
      " 41  recoveries                  39715 non-null  float64\n",
      " 42  collection_recovery_fee     39715 non-null  float64\n",
      " 43  last_pymnt_d                39644 non-null  object \n",
      " 44  last_pymnt_amnt             39715 non-null  float64\n",
      " 45  last_credit_pull_d          39713 non-null  object \n",
      " 46  collections_12_mths_ex_med  39661 non-null  float64\n",
      " 47  policy_code                 39715 non-null  int64  \n",
      " 48  application_type            39715 non-null  object \n",
      " 49  acc_now_delinq              39715 non-null  int64  \n",
      " 50  chargeoff_within_12_mths    39661 non-null  float64\n",
      " 51  delinq_amnt                 39715 non-null  int64  \n",
      " 52  pub_rec_bankruptcies        39020 non-null  float64\n",
      " 53  tax_liens                   39678 non-null  float64\n",
      "dtypes: float64(20), int64(13), object(21)\n",
      "memory usage: 16.7+ MB\n"
     ]
    }
   ],
   "source": [
    "df.info() #int_rate has been converted to float"
   ]
  },
  {
   "cell_type": "code",
   "execution_count": 32,
   "id": "ba60aff7",
   "metadata": {},
   "outputs": [],
   "source": [
    "#We also need to convert the emp_length into a int as its a vital data"
   ]
  },
  {
   "cell_type": "code",
   "execution_count": 33,
   "id": "093994a1",
   "metadata": {},
   "outputs": [
    {
     "data": {
      "text/plain": [
       "id                                                                      1077175\n",
       "member_id                                                               1313524\n",
       "loan_amnt                                                                  2400\n",
       "funded_amnt                                                                2400\n",
       "funded_amnt_inv                                                          2400.0\n",
       "term                                                                  36 months\n",
       "int_rate                                                                  15.96\n",
       "installment                                                               84.33\n",
       "grade                                                                         C\n",
       "sub_grade                                                                    C5\n",
       "emp_title                                                                   NaN\n",
       "emp_length                                                            10+ years\n",
       "home_ownership                                                             RENT\n",
       "annual_inc                                                              12252.0\n",
       "verification_status                                                Not Verified\n",
       "issue_d                                                                  Dec-11\n",
       "loan_status                                                          Fully Paid\n",
       "pymnt_plan                                                                    n\n",
       "url                           https://lendingclub.com/browse/loanDetail.acti...\n",
       "purpose                                                          small_business\n",
       "title                                                      real estate business\n",
       "zip_code                                                                  606xx\n",
       "addr_state                                                                   IL\n",
       "dti                                                                        8.72\n",
       "delinq_2yrs                                                                   0\n",
       "earliest_cr_line                                                         Nov-01\n",
       "inq_last_6mths                                                                2\n",
       "mths_since_last_delinq                                                      NaN\n",
       "open_acc                                                                      2\n",
       "pub_rec                                                                       0\n",
       "revol_bal                                                                  2956\n",
       "revol_util                                                               98.50%\n",
       "total_acc                                                                    10\n",
       "initial_list_status                                                           f\n",
       "out_prncp                                                                   0.0\n",
       "out_prncp_inv                                                               0.0\n",
       "total_pymnt                                                         3005.666844\n",
       "total_pymnt_inv                                                         3005.67\n",
       "total_rec_prncp                                                          2400.0\n",
       "total_rec_int                                                            605.67\n",
       "total_rec_late_fee                                                          0.0\n",
       "recoveries                                                                  0.0\n",
       "collection_recovery_fee                                                     0.0\n",
       "last_pymnt_d                                                             Jun-14\n",
       "last_pymnt_amnt                                                          649.91\n",
       "last_credit_pull_d                                                       May-16\n",
       "collections_12_mths_ex_med                                                  0.0\n",
       "policy_code                                                                   1\n",
       "application_type                                                     INDIVIDUAL\n",
       "acc_now_delinq                                                                0\n",
       "chargeoff_within_12_mths                                                    0.0\n",
       "delinq_amnt                                                                   0\n",
       "pub_rec_bankruptcies                                                        0.0\n",
       "tax_liens                                                                   0.0\n",
       "Name: 2, dtype: object"
      ]
     },
     "execution_count": 33,
     "metadata": {},
     "output_type": "execute_result"
    }
   ],
   "source": [
    "df.iloc[2]"
   ]
  },
  {
   "cell_type": "code",
   "execution_count": 34,
   "id": "fe42873b",
   "metadata": {},
   "outputs": [],
   "source": [
    "# Employee length is 10+ years so need to take the digits\n",
    "#now to apply regular expressin on that column so need to remove all the null values"
   ]
  },
  {
   "cell_type": "code",
   "execution_count": 35,
   "id": "e1f399b9",
   "metadata": {},
   "outputs": [],
   "source": [
    "df=df[~df['emp_length'].isnull()]"
   ]
  },
  {
   "cell_type": "code",
   "execution_count": 36,
   "id": "05cbbd9f",
   "metadata": {},
   "outputs": [],
   "source": [
    "import re"
   ]
  },
  {
   "cell_type": "code",
   "execution_count": 37,
   "id": "7fd72cf0",
   "metadata": {},
   "outputs": [],
   "source": [
    "df['emp_length']= df['emp_length'].apply(lambda x: re.findall('\\d+',str(x))[0])"
   ]
  },
  {
   "cell_type": "code",
   "execution_count": 38,
   "id": "d66445fd",
   "metadata": {},
   "outputs": [],
   "source": [
    "df['emp_length']=df['emp_length'].apply(lambda x:pd.to_numeric(x)) #converted it to int"
   ]
  },
  {
   "cell_type": "code",
   "execution_count": 39,
   "id": "5c5d8672",
   "metadata": {},
   "outputs": [
    {
     "name": "stdout",
     "output_type": "stream",
     "text": [
      "<class 'pandas.core.frame.DataFrame'>\n",
      "Int64Index: 38640 entries, 0 to 39716\n",
      "Data columns (total 54 columns):\n",
      " #   Column                      Non-Null Count  Dtype  \n",
      "---  ------                      --------------  -----  \n",
      " 0   id                          38640 non-null  int64  \n",
      " 1   member_id                   38640 non-null  int64  \n",
      " 2   loan_amnt                   38640 non-null  int64  \n",
      " 3   funded_amnt                 38640 non-null  int64  \n",
      " 4   funded_amnt_inv             38640 non-null  float64\n",
      " 5   term                        38640 non-null  object \n",
      " 6   int_rate                    38640 non-null  float64\n",
      " 7   installment                 38640 non-null  float64\n",
      " 8   grade                       38640 non-null  object \n",
      " 9   sub_grade                   38640 non-null  object \n",
      " 10  emp_title                   37202 non-null  object \n",
      " 11  emp_length                  38640 non-null  int64  \n",
      " 12  home_ownership              38640 non-null  object \n",
      " 13  annual_inc                  38640 non-null  float64\n",
      " 14  verification_status         38640 non-null  object \n",
      " 15  issue_d                     38640 non-null  object \n",
      " 16  loan_status                 38640 non-null  object \n",
      " 17  pymnt_plan                  38640 non-null  object \n",
      " 18  url                         38640 non-null  object \n",
      " 19  purpose                     38640 non-null  object \n",
      " 20  title                       38630 non-null  object \n",
      " 21  zip_code                    38640 non-null  object \n",
      " 22  addr_state                  38640 non-null  object \n",
      " 23  dti                         38640 non-null  float64\n",
      " 24  delinq_2yrs                 38640 non-null  int64  \n",
      " 25  earliest_cr_line            38640 non-null  object \n",
      " 26  inq_last_6mths              38640 non-null  int64  \n",
      " 27  mths_since_last_delinq      13690 non-null  float64\n",
      " 28  open_acc                    38640 non-null  int64  \n",
      " 29  pub_rec                     38640 non-null  int64  \n",
      " 30  revol_bal                   38640 non-null  int64  \n",
      " 31  revol_util                  38593 non-null  object \n",
      " 32  total_acc                   38640 non-null  int64  \n",
      " 33  initial_list_status         38640 non-null  object \n",
      " 34  out_prncp                   38640 non-null  float64\n",
      " 35  out_prncp_inv               38640 non-null  float64\n",
      " 36  total_pymnt                 38640 non-null  float64\n",
      " 37  total_pymnt_inv             38640 non-null  float64\n",
      " 38  total_rec_prncp             38640 non-null  float64\n",
      " 39  total_rec_int               38640 non-null  float64\n",
      " 40  total_rec_late_fee          38640 non-null  float64\n",
      " 41  recoveries                  38640 non-null  float64\n",
      " 42  collection_recovery_fee     38640 non-null  float64\n",
      " 43  last_pymnt_d                38574 non-null  object \n",
      " 44  last_pymnt_amnt             38640 non-null  float64\n",
      " 45  last_credit_pull_d          38638 non-null  object \n",
      " 46  collections_12_mths_ex_med  38586 non-null  float64\n",
      " 47  policy_code                 38640 non-null  int64  \n",
      " 48  application_type            38640 non-null  object \n",
      " 49  acc_now_delinq              38640 non-null  int64  \n",
      " 50  chargeoff_within_12_mths    38586 non-null  float64\n",
      " 51  delinq_amnt                 38640 non-null  int64  \n",
      " 52  pub_rec_bankruptcies        37945 non-null  float64\n",
      " 53  tax_liens                   38603 non-null  float64\n",
      "dtypes: float64(20), int64(14), object(20)\n",
      "memory usage: 16.2+ MB\n"
     ]
    }
   ],
   "source": [
    "df.info()"
   ]
  },
  {
   "cell_type": "code",
   "execution_count": 40,
   "id": "281fa173",
   "metadata": {},
   "outputs": [],
   "source": [
    "#Analysis of data"
   ]
  },
  {
   "cell_type": "code",
   "execution_count": 41,
   "id": "80484f8a",
   "metadata": {},
   "outputs": [
    {
     "data": {
      "text/html": [
       "<div>\n",
       "<style scoped>\n",
       "    .dataframe tbody tr th:only-of-type {\n",
       "        vertical-align: middle;\n",
       "    }\n",
       "\n",
       "    .dataframe tbody tr th {\n",
       "        vertical-align: top;\n",
       "    }\n",
       "\n",
       "    .dataframe thead th {\n",
       "        text-align: right;\n",
       "    }\n",
       "</style>\n",
       "<table border=\"1\" class=\"dataframe\">\n",
       "  <thead>\n",
       "    <tr style=\"text-align: right;\">\n",
       "      <th></th>\n",
       "      <th>id</th>\n",
       "      <th>member_id</th>\n",
       "      <th>loan_amnt</th>\n",
       "      <th>funded_amnt</th>\n",
       "      <th>funded_amnt_inv</th>\n",
       "      <th>term</th>\n",
       "      <th>int_rate</th>\n",
       "      <th>installment</th>\n",
       "      <th>grade</th>\n",
       "      <th>sub_grade</th>\n",
       "      <th>...</th>\n",
       "      <th>last_pymnt_amnt</th>\n",
       "      <th>last_credit_pull_d</th>\n",
       "      <th>collections_12_mths_ex_med</th>\n",
       "      <th>policy_code</th>\n",
       "      <th>application_type</th>\n",
       "      <th>acc_now_delinq</th>\n",
       "      <th>chargeoff_within_12_mths</th>\n",
       "      <th>delinq_amnt</th>\n",
       "      <th>pub_rec_bankruptcies</th>\n",
       "      <th>tax_liens</th>\n",
       "    </tr>\n",
       "  </thead>\n",
       "  <tbody>\n",
       "    <tr>\n",
       "      <th>0</th>\n",
       "      <td>1077501</td>\n",
       "      <td>1296599</td>\n",
       "      <td>5000</td>\n",
       "      <td>5000</td>\n",
       "      <td>4975.0</td>\n",
       "      <td>36 months</td>\n",
       "      <td>10.65</td>\n",
       "      <td>162.87</td>\n",
       "      <td>B</td>\n",
       "      <td>B2</td>\n",
       "      <td>...</td>\n",
       "      <td>171.62</td>\n",
       "      <td>May-16</td>\n",
       "      <td>0.0</td>\n",
       "      <td>1</td>\n",
       "      <td>INDIVIDUAL</td>\n",
       "      <td>0</td>\n",
       "      <td>0.0</td>\n",
       "      <td>0</td>\n",
       "      <td>0.0</td>\n",
       "      <td>0.0</td>\n",
       "    </tr>\n",
       "    <tr>\n",
       "      <th>1</th>\n",
       "      <td>1077430</td>\n",
       "      <td>1314167</td>\n",
       "      <td>2500</td>\n",
       "      <td>2500</td>\n",
       "      <td>2500.0</td>\n",
       "      <td>60 months</td>\n",
       "      <td>15.27</td>\n",
       "      <td>59.83</td>\n",
       "      <td>C</td>\n",
       "      <td>C4</td>\n",
       "      <td>...</td>\n",
       "      <td>119.66</td>\n",
       "      <td>Sep-13</td>\n",
       "      <td>0.0</td>\n",
       "      <td>1</td>\n",
       "      <td>INDIVIDUAL</td>\n",
       "      <td>0</td>\n",
       "      <td>0.0</td>\n",
       "      <td>0</td>\n",
       "      <td>0.0</td>\n",
       "      <td>0.0</td>\n",
       "    </tr>\n",
       "    <tr>\n",
       "      <th>2</th>\n",
       "      <td>1077175</td>\n",
       "      <td>1313524</td>\n",
       "      <td>2400</td>\n",
       "      <td>2400</td>\n",
       "      <td>2400.0</td>\n",
       "      <td>36 months</td>\n",
       "      <td>15.96</td>\n",
       "      <td>84.33</td>\n",
       "      <td>C</td>\n",
       "      <td>C5</td>\n",
       "      <td>...</td>\n",
       "      <td>649.91</td>\n",
       "      <td>May-16</td>\n",
       "      <td>0.0</td>\n",
       "      <td>1</td>\n",
       "      <td>INDIVIDUAL</td>\n",
       "      <td>0</td>\n",
       "      <td>0.0</td>\n",
       "      <td>0</td>\n",
       "      <td>0.0</td>\n",
       "      <td>0.0</td>\n",
       "    </tr>\n",
       "    <tr>\n",
       "      <th>3</th>\n",
       "      <td>1076863</td>\n",
       "      <td>1277178</td>\n",
       "      <td>10000</td>\n",
       "      <td>10000</td>\n",
       "      <td>10000.0</td>\n",
       "      <td>36 months</td>\n",
       "      <td>13.49</td>\n",
       "      <td>339.31</td>\n",
       "      <td>C</td>\n",
       "      <td>C1</td>\n",
       "      <td>...</td>\n",
       "      <td>357.48</td>\n",
       "      <td>Apr-16</td>\n",
       "      <td>0.0</td>\n",
       "      <td>1</td>\n",
       "      <td>INDIVIDUAL</td>\n",
       "      <td>0</td>\n",
       "      <td>0.0</td>\n",
       "      <td>0</td>\n",
       "      <td>0.0</td>\n",
       "      <td>0.0</td>\n",
       "    </tr>\n",
       "    <tr>\n",
       "      <th>4</th>\n",
       "      <td>1075358</td>\n",
       "      <td>1311748</td>\n",
       "      <td>3000</td>\n",
       "      <td>3000</td>\n",
       "      <td>3000.0</td>\n",
       "      <td>60 months</td>\n",
       "      <td>12.69</td>\n",
       "      <td>67.79</td>\n",
       "      <td>B</td>\n",
       "      <td>B5</td>\n",
       "      <td>...</td>\n",
       "      <td>67.79</td>\n",
       "      <td>May-16</td>\n",
       "      <td>0.0</td>\n",
       "      <td>1</td>\n",
       "      <td>INDIVIDUAL</td>\n",
       "      <td>0</td>\n",
       "      <td>0.0</td>\n",
       "      <td>0</td>\n",
       "      <td>0.0</td>\n",
       "      <td>0.0</td>\n",
       "    </tr>\n",
       "  </tbody>\n",
       "</table>\n",
       "<p>5 rows × 54 columns</p>\n",
       "</div>"
      ],
      "text/plain": [
       "        id  member_id  loan_amnt  funded_amnt  funded_amnt_inv        term  \\\n",
       "0  1077501    1296599       5000         5000           4975.0   36 months   \n",
       "1  1077430    1314167       2500         2500           2500.0   60 months   \n",
       "2  1077175    1313524       2400         2400           2400.0   36 months   \n",
       "3  1076863    1277178      10000        10000          10000.0   36 months   \n",
       "4  1075358    1311748       3000         3000           3000.0   60 months   \n",
       "\n",
       "   int_rate  installment grade sub_grade  ... last_pymnt_amnt  \\\n",
       "0     10.65       162.87     B        B2  ...          171.62   \n",
       "1     15.27        59.83     C        C4  ...          119.66   \n",
       "2     15.96        84.33     C        C5  ...          649.91   \n",
       "3     13.49       339.31     C        C1  ...          357.48   \n",
       "4     12.69        67.79     B        B5  ...           67.79   \n",
       "\n",
       "   last_credit_pull_d collections_12_mths_ex_med  policy_code  \\\n",
       "0              May-16                        0.0            1   \n",
       "1              Sep-13                        0.0            1   \n",
       "2              May-16                        0.0            1   \n",
       "3              Apr-16                        0.0            1   \n",
       "4              May-16                        0.0            1   \n",
       "\n",
       "  application_type acc_now_delinq chargeoff_within_12_mths delinq_amnt  \\\n",
       "0       INDIVIDUAL              0                      0.0           0   \n",
       "1       INDIVIDUAL              0                      0.0           0   \n",
       "2       INDIVIDUAL              0                      0.0           0   \n",
       "3       INDIVIDUAL              0                      0.0           0   \n",
       "4       INDIVIDUAL              0                      0.0           0   \n",
       "\n",
       "  pub_rec_bankruptcies tax_liens  \n",
       "0                  0.0       0.0  \n",
       "1                  0.0       0.0  \n",
       "2                  0.0       0.0  \n",
       "3                  0.0       0.0  \n",
       "4                  0.0       0.0  \n",
       "\n",
       "[5 rows x 54 columns]"
      ]
     },
     "execution_count": 41,
     "metadata": {},
     "output_type": "execute_result"
    }
   ],
   "source": [
    "df.head()"
   ]
  },
  {
   "cell_type": "code",
   "execution_count": 42,
   "id": "880886ad",
   "metadata": {},
   "outputs": [
    {
     "data": {
      "text/plain": [
       "0    10\n",
       "1     1\n",
       "2    10\n",
       "3    10\n",
       "4     1\n",
       "Name: emp_length, dtype: int64"
      ]
     },
     "execution_count": 42,
     "metadata": {},
     "output_type": "execute_result"
    }
   ],
   "source": [
    "df['emp_length'].head()"
   ]
  },
  {
   "cell_type": "code",
   "execution_count": 43,
   "id": "af7a015d",
   "metadata": {},
   "outputs": [
    {
     "data": {
      "text/plain": [
       "(38640, 54)"
      ]
     },
     "execution_count": 43,
     "metadata": {},
     "output_type": "execute_result"
    }
   ],
   "source": [
    "df.shape"
   ]
  },
  {
   "cell_type": "code",
   "execution_count": 44,
   "id": "b70afcb6",
   "metadata": {},
   "outputs": [
    {
     "data": {
      "text/plain": [
       "Fully Paid     32143\n",
       "Charged Off     5399\n",
       "Current         1098\n",
       "Name: loan_status, dtype: int64"
      ]
     },
     "execution_count": 44,
     "metadata": {},
     "output_type": "execute_result"
    }
   ],
   "source": [
    "df['loan_status'].value_counts()"
   ]
  },
  {
   "cell_type": "code",
   "execution_count": 45,
   "id": "cc914d38",
   "metadata": {},
   "outputs": [],
   "source": [
    "df1=df[df['loan_status']!='Current']"
   ]
  },
  {
   "cell_type": "code",
   "execution_count": 46,
   "id": "58981386",
   "metadata": {},
   "outputs": [],
   "source": [
    "df1['loan_status']= df['loan_status'].apply(lambda x: 0 if x==\"Fully Paid\" else 1)"
   ]
  },
  {
   "cell_type": "code",
   "execution_count": null,
   "id": "695b9f72",
   "metadata": {},
   "outputs": [],
   "source": []
  },
  {
   "cell_type": "code",
   "execution_count": 47,
   "id": "cb57b48b",
   "metadata": {},
   "outputs": [],
   "source": [
    "#Bivariate Analysis"
   ]
  },
  {
   "cell_type": "code",
   "execution_count": 48,
   "id": "d0b5cb91",
   "metadata": {},
   "outputs": [],
   "source": [
    "df1['loan_status']=df1['loan_status'].apply(lambda x:pd.to_numeric(x))"
   ]
  },
  {
   "cell_type": "code",
   "execution_count": 49,
   "id": "1969e980",
   "metadata": {},
   "outputs": [
    {
     "data": {
      "text/plain": [
       "0    32143\n",
       "1     5399\n",
       "Name: loan_status, dtype: int64"
      ]
     },
     "execution_count": 49,
     "metadata": {},
     "output_type": "execute_result"
    }
   ],
   "source": [
    "df1['loan_status'].value_counts()"
   ]
  },
  {
   "cell_type": "code",
   "execution_count": 50,
   "id": "3b2d2427",
   "metadata": {},
   "outputs": [
    {
     "data": {
      "image/png": "[encoded data removed]",
      "text/plain": [
       "<Figure size 640x480 with 1 Axes>"
      ]
     },
     "metadata": {},
     "output_type": "display_data"
    }
   ],
   "source": [
    "sns.barplot(x='grade', y='loan_status', data=df1)\n",
    "plt.show()"
   ]
  },
  {
   "cell_type": "code",
   "execution_count": 51,
   "id": "db81e14b",
   "metadata": {},
   "outputs": [],
   "source": [
    "# Observation: Grade D-G tend to default"
   ]
  },
  {
   "cell_type": "code",
   "execution_count": 52,
   "id": "763abfcd",
   "metadata": {},
   "outputs": [
    {
     "data": {
      "image/png": "[encoded data removed]",
      "text/plain": [
       "<Figure size 640x480 with 1 Axes>"
      ]
     },
     "metadata": {},
     "output_type": "display_data"
    }
   ],
   "source": [
    "sns.barplot(x='term', y='loan_status', data=df1)\n",
    "plt.show()"
   ]
  },
  {
   "cell_type": "code",
   "execution_count": 53,
   "id": "57626b05",
   "metadata": {},
   "outputs": [],
   "source": [
    "# Observation: Longer the term increases the chance of default"
   ]
  },
  {
   "cell_type": "code",
   "execution_count": 54,
   "id": "125ef48d",
   "metadata": {},
   "outputs": [
    {
     "data": {
      "image/png": "[encoded data removed]",
      "text/plain": [
       "<Figure size 640x480 with 1 Axes>"
      ]
     },
     "metadata": {},
     "output_type": "display_data"
    }
   ],
   "source": [
    "sns.barplot(x='home_ownership', y='loan_status', data=df1)\n",
    "plt.show()"
   ]
  },
  {
   "cell_type": "code",
   "execution_count": 55,
   "id": "9679ace9",
   "metadata": {},
   "outputs": [],
   "source": [
    "# Observation: Home ownership dosent directly relate to default"
   ]
  },
  {
   "cell_type": "code",
   "execution_count": 56,
   "id": "a56ee85e",
   "metadata": {},
   "outputs": [
    {
     "data": {
      "text/plain": [
       "0.14381226359810345"
      ]
     },
     "execution_count": 56,
     "metadata": {},
     "output_type": "execute_result"
    }
   ],
   "source": [
    "np.mean(df1['loan_status']) #Average default rate is 14.38%"
   ]
  },
  {
   "cell_type": "code",
   "execution_count": 57,
   "id": "10816b0d",
   "metadata": {},
   "outputs": [
    {
     "data": {
      "text/plain": [
       "0     5000\n",
       "1     2500\n",
       "2     2400\n",
       "3    10000\n",
       "5     5000\n",
       "Name: loan_amnt, dtype: int64"
      ]
     },
     "execution_count": 57,
     "metadata": {},
     "output_type": "execute_result"
    }
   ],
   "source": [
    "df1['loan_amnt'].head()"
   ]
  },
  {
   "cell_type": "code",
   "execution_count": 58,
   "id": "a7076b7c",
   "metadata": {},
   "outputs": [
    {
     "data": {
      "text/plain": [
       "500"
      ]
     },
     "execution_count": 58,
     "metadata": {},
     "output_type": "execute_result"
    }
   ],
   "source": [
    "df1['loan_amnt'].min()"
   ]
  },
  {
   "cell_type": "code",
   "execution_count": 59,
   "id": "12a2bd6f",
   "metadata": {},
   "outputs": [
    {
     "data": {
      "text/plain": [
       "35000"
      ]
     },
     "execution_count": 59,
     "metadata": {},
     "output_type": "execute_result"
    }
   ],
   "source": [
    "df1['loan_amnt'].max()"
   ]
  },
  {
   "cell_type": "code",
   "execution_count": 60,
   "id": "3cb406ae",
   "metadata": {},
   "outputs": [],
   "source": [
    "def fun(n):\n",
    "    if n<3000:\n",
    "        return 'low'\n",
    "    elif n>=3000 and n<10000:\n",
    "        return 'medium'\n",
    "    elif n>=10000 and n<20000:\n",
    "        return 'high'\n",
    "    elif n>=20000:\n",
    "        return 'very high'"
   ]
  },
  {
   "cell_type": "code",
   "execution_count": 61,
   "id": "eb667fa7",
   "metadata": {},
   "outputs": [],
   "source": [
    "df1['loan_amnt']=df1['loan_amnt'].apply(lambda x:fun(x))"
   ]
  },
  {
   "cell_type": "code",
   "execution_count": 62,
   "id": "c027f718",
   "metadata": {},
   "outputs": [
    {
     "data": {
      "text/plain": [
       "medium       16113\n",
       "high         13058\n",
       "very high     5724\n",
       "low           2647\n",
       "Name: loan_amnt, dtype: int64"
      ]
     },
     "execution_count": 62,
     "metadata": {},
     "output_type": "execute_result"
    }
   ],
   "source": [
    "df1['loan_amnt'].value_counts()"
   ]
  },
  {
   "cell_type": "code",
   "execution_count": 63,
   "id": "bb2577eb",
   "metadata": {},
   "outputs": [
    {
     "data": {
      "image/png": "[encoded data removed]",
      "text/plain": [
       "<Figure size 640x480 with 1 Axes>"
      ]
     },
     "metadata": {},
     "output_type": "display_data"
    }
   ],
   "source": [
    "sns.barplot(x='loan_amnt', y='loan_status', data=df1)\n",
    "plt.show()"
   ]
  },
  {
   "cell_type": "code",
   "execution_count": 64,
   "id": "9ba4c455",
   "metadata": {},
   "outputs": [],
   "source": [
    "# Observation: Higher the loan amount higher the chance of default for loans above 20K"
   ]
  },
  {
   "cell_type": "code",
   "execution_count": 65,
   "id": "604f07f2",
   "metadata": {},
   "outputs": [
    {
     "data": {
      "text/plain": [
       "0    10.65\n",
       "1    15.27\n",
       "2    15.96\n",
       "3    13.49\n",
       "5     7.90\n",
       "Name: int_rate, dtype: float64"
      ]
     },
     "execution_count": 65,
     "metadata": {},
     "output_type": "execute_result"
    }
   ],
   "source": [
    "df1['int_rate'].head()"
   ]
  },
  {
   "cell_type": "code",
   "execution_count": 66,
   "id": "936fccaa",
   "metadata": {},
   "outputs": [
    {
     "data": {
      "text/plain": [
       "5.42"
      ]
     },
     "execution_count": 66,
     "metadata": {},
     "output_type": "execute_result"
    }
   ],
   "source": [
    "df1['int_rate'].min()"
   ]
  },
  {
   "cell_type": "code",
   "execution_count": 67,
   "id": "7a8ee0b9",
   "metadata": {},
   "outputs": [
    {
     "data": {
      "text/plain": [
       "24.4"
      ]
     },
     "execution_count": 67,
     "metadata": {},
     "output_type": "execute_result"
    }
   ],
   "source": [
    "df1['int_rate'].max()"
   ]
  },
  {
   "cell_type": "code",
   "execution_count": 68,
   "id": "3c22f433",
   "metadata": {},
   "outputs": [],
   "source": [
    "def fun1(n):\n",
    "    if n<10:\n",
    "        return 'low'\n",
    "    elif n>=10 and n<15:\n",
    "        return 'medium'\n",
    "    elif n>=15 and n<20:\n",
    "        return 'high'\n",
    "    elif n>=20:\n",
    "        return 'very high'"
   ]
  },
  {
   "cell_type": "code",
   "execution_count": 69,
   "id": "6743b391",
   "metadata": {},
   "outputs": [],
   "source": [
    "df1['int_rate']=df1['int_rate'].apply(lambda x:fun1(x))"
   ]
  },
  {
   "cell_type": "code",
   "execution_count": 70,
   "id": "897f8135",
   "metadata": {},
   "outputs": [
    {
     "data": {
      "text/plain": [
       "medium       18123\n",
       "low          11589\n",
       "high          7070\n",
       "very high      760\n",
       "Name: int_rate, dtype: int64"
      ]
     },
     "execution_count": 70,
     "metadata": {},
     "output_type": "execute_result"
    }
   ],
   "source": [
    "df1['int_rate'].value_counts()"
   ]
  },
  {
   "cell_type": "code",
   "execution_count": 71,
   "id": "0b353590",
   "metadata": {},
   "outputs": [
    {
     "data": {
      "image/png": "[encoded data removed]",
      "text/plain": [
       "<Figure size 640x480 with 1 Axes>"
      ]
     },
     "metadata": {},
     "output_type": "display_data"
    }
   ],
   "source": [
    "sns.barplot(x='int_rate', y='loan_status', data=df1)\n",
    "plt.show()"
   ]
  },
  {
   "cell_type": "code",
   "execution_count": 72,
   "id": "7b412e8f",
   "metadata": {
    "scrolled": true
   },
   "outputs": [],
   "source": [
    "# Observation: Higher the interest rate higher the chance of default mainly above 15%"
   ]
  },
  {
   "cell_type": "code",
   "execution_count": 73,
   "id": "6352c9b7",
   "metadata": {},
   "outputs": [
    {
     "data": {
      "text/plain": [
       "0    24000.0\n",
       "1    30000.0\n",
       "2    12252.0\n",
       "3    49200.0\n",
       "5    36000.0\n",
       "Name: annual_inc, dtype: float64"
      ]
     },
     "execution_count": 73,
     "metadata": {},
     "output_type": "execute_result"
    }
   ],
   "source": [
    "df1['annual_inc'].head()"
   ]
  },
  {
   "cell_type": "code",
   "execution_count": 74,
   "id": "6ab1b155",
   "metadata": {},
   "outputs": [
    {
     "data": {
      "text/plain": [
       "4000.0"
      ]
     },
     "execution_count": 74,
     "metadata": {},
     "output_type": "execute_result"
    }
   ],
   "source": [
    "df1['annual_inc'].min()"
   ]
  },
  {
   "cell_type": "code",
   "execution_count": 75,
   "id": "d16e1561",
   "metadata": {},
   "outputs": [
    {
     "data": {
      "text/plain": [
       "6000000.0"
      ]
     },
     "execution_count": 75,
     "metadata": {},
     "output_type": "execute_result"
    }
   ],
   "source": [
    "df1['annual_inc'].max() # next do the univariate analysis of the annual income"
   ]
  },
  {
   "cell_type": "code",
   "execution_count": 76,
   "id": "74a31f61",
   "metadata": {},
   "outputs": [],
   "source": [
    "def fun2(n):\n",
    "    if n<10000:\n",
    "        return 'low'\n",
    "    elif n>=10000 and n<50000:\n",
    "        return 'medium'\n",
    "    elif n>=50000 and n<90000:\n",
    "        return 'high'\n",
    "    elif n>=90000:\n",
    "        return 'very high'"
   ]
  },
  {
   "cell_type": "code",
   "execution_count": 77,
   "id": "4010aeb6",
   "metadata": {},
   "outputs": [],
   "source": [
    "df1['annual_inc']=df1['annual_inc'].apply(lambda x:fun2(x))"
   ]
  },
  {
   "cell_type": "code",
   "execution_count": 78,
   "id": "0f99eeca",
   "metadata": {},
   "outputs": [
    {
     "data": {
      "text/plain": [
       "high         15913\n",
       "medium       13610\n",
       "very high     7960\n",
       "low             59\n",
       "Name: annual_inc, dtype: int64"
      ]
     },
     "execution_count": 78,
     "metadata": {},
     "output_type": "execute_result"
    }
   ],
   "source": [
    "df1['annual_inc'].value_counts()"
   ]
  },
  {
   "cell_type": "code",
   "execution_count": 79,
   "id": "788a02bd",
   "metadata": {},
   "outputs": [
    {
     "data": {
      "image/png": "[encoded data removed]",
      "text/plain": [
       "<Figure size 640x480 with 1 Axes>"
      ]
     },
     "metadata": {},
     "output_type": "display_data"
    }
   ],
   "source": [
    "sns.barplot(x='annual_inc', y='loan_status', data=df1)\n",
    "plt.show()"
   ]
  },
  {
   "cell_type": "code",
   "execution_count": 80,
   "id": "e5ddf2dc",
   "metadata": {},
   "outputs": [],
   "source": [
    "# Observation: Higher the income lower the chance of default"
   ]
  },
  {
   "cell_type": "code",
   "execution_count": 81,
   "id": "5d0f8597",
   "metadata": {},
   "outputs": [
    {
     "data": {
      "text/plain": [
       "debt_consolidation    17675\n",
       "credit_card            4899\n",
       "other                  3711\n",
       "home_improvement       2785\n",
       "major_purchase         2080\n",
       "small_business         1710\n",
       "car                    1448\n",
       "wedding                 913\n",
       "medical                 656\n",
       "moving                  552\n",
       "house                   354\n",
       "vacation                348\n",
       "educational             317\n",
       "renewable_energy         94\n",
       "Name: purpose, dtype: int64"
      ]
     },
     "execution_count": 81,
     "metadata": {},
     "output_type": "execute_result"
    }
   ],
   "source": [
    "df1['purpose'].value_counts()"
   ]
  },
  {
   "cell_type": "code",
   "execution_count": 82,
   "id": "ac0a01eb",
   "metadata": {},
   "outputs": [
    {
     "data": {
      "text/plain": [
       "0    32143\n",
       "1     5399\n",
       "Name: loan_status, dtype: int64"
      ]
     },
     "execution_count": 82,
     "metadata": {},
     "output_type": "execute_result"
    }
   ],
   "source": [
    "df1['loan_status'].value_counts()"
   ]
  },
  {
   "cell_type": "code",
   "execution_count": 83,
   "id": "6aea6068",
   "metadata": {},
   "outputs": [
    {
     "data": {
      "image/png": "[encoded data removed]",
      "text/plain": [
       "<Figure size 640x480 with 1 Axes>"
      ]
     },
     "metadata": {},
     "output_type": "display_data"
    }
   ],
   "source": [
    "sns.barplot(y='purpose', x='loan_status', data=df1)\n",
    "plt.show()"
   ]
  },
  {
   "cell_type": "code",
   "execution_count": 84,
   "id": "a08f5018",
   "metadata": {},
   "outputs": [],
   "source": [
    "# Observation: Loans on Small Business, Educational and Renewable Energy higher the chance of default"
   ]
  },
  {
   "cell_type": "code",
   "execution_count": 85,
   "id": "b37a358e",
   "metadata": {},
   "outputs": [
    {
     "data": {
      "text/plain": [
       "15.69"
      ]
     },
     "execution_count": 85,
     "metadata": {},
     "output_type": "execute_result"
    }
   ],
   "source": [
    "df1['installment'].min()"
   ]
  },
  {
   "cell_type": "code",
   "execution_count": 86,
   "id": "db9f20d1",
   "metadata": {},
   "outputs": [
    {
     "data": {
      "text/plain": [
       "1305.19"
      ]
     },
     "execution_count": 86,
     "metadata": {},
     "output_type": "execute_result"
    }
   ],
   "source": [
    "df1['installment'].max()"
   ]
  },
  {
   "cell_type": "code",
   "execution_count": 87,
   "id": "7e5011f4",
   "metadata": {},
   "outputs": [],
   "source": [
    "def fun3(n):\n",
    "    if n<100:\n",
    "        return 'low'\n",
    "    elif n>=100 and n<500:\n",
    "        return 'medium'\n",
    "    elif n>=500 and n<1000:\n",
    "        return 'high'\n",
    "    elif n>=1000:\n",
    "        return 'very high'"
   ]
  },
  {
   "cell_type": "code",
   "execution_count": 88,
   "id": "315182e0",
   "metadata": {},
   "outputs": [],
   "source": [
    "df1['installment']=df1['installment'].apply(lambda x:fun3(x))"
   ]
  },
  {
   "cell_type": "code",
   "execution_count": 89,
   "id": "1365a9fe",
   "metadata": {},
   "outputs": [
    {
     "data": {
      "text/plain": [
       "medium       27074\n",
       "high          6492\n",
       "low           3745\n",
       "very high      231\n",
       "Name: installment, dtype: int64"
      ]
     },
     "execution_count": 89,
     "metadata": {},
     "output_type": "execute_result"
    }
   ],
   "source": [
    "df1['installment'].value_counts()"
   ]
  },
  {
   "cell_type": "code",
   "execution_count": 90,
   "id": "aa6c950a",
   "metadata": {},
   "outputs": [
    {
     "data": {
      "image/png": "[encoded data removed]",
      "text/plain": [
       "<Figure size 640x480 with 1 Axes>"
      ]
     },
     "metadata": {},
     "output_type": "display_data"
    }
   ],
   "source": [
    "sns.barplot(x='installment', y='loan_status', data=df1)\n",
    "plt.show()"
   ]
  },
  {
   "cell_type": "code",
   "execution_count": 91,
   "id": "2afdf865",
   "metadata": {},
   "outputs": [],
   "source": [
    "# Observation: Installment amount between 500 - 1000 $ has a higher chance of default"
   ]
  },
  {
   "cell_type": "code",
   "execution_count": null,
   "id": "7b2c5078",
   "metadata": {},
   "outputs": [],
   "source": []
  },
  {
   "cell_type": "code",
   "execution_count": 92,
   "id": "20d680de",
   "metadata": {},
   "outputs": [],
   "source": [
    "#Univariate Analysis"
   ]
  },
  {
   "cell_type": "code",
   "execution_count": 93,
   "id": "2ab8b446",
   "metadata": {},
   "outputs": [
    {
     "data": {
      "text/plain": [
       "<Axes: >"
      ]
     },
     "execution_count": 93,
     "metadata": {},
     "output_type": "execute_result"
    },
    {
     "data": {
      "image/png": "[encoded data removed]",
      "text/plain": [
       "<Figure size 640x480 with 1 Axes>"
      ]
     },
     "metadata": {},
     "output_type": "display_data"
    }
   ],
   "source": [
    "sns.boxplot(df['loan_amnt'])"
   ]
  },
  {
   "cell_type": "code",
   "execution_count": null,
   "id": "d3afe11d",
   "metadata": {},
   "outputs": [],
   "source": [
    "# Observation: Most loans taken are between 5000 to 15000 $"
   ]
  },
  {
   "cell_type": "code",
   "execution_count": 94,
   "id": "93c59e98",
   "metadata": {},
   "outputs": [
    {
     "data": {
      "text/plain": [
       "<Axes: >"
      ]
     },
     "execution_count": 94,
     "metadata": {},
     "output_type": "execute_result"
    },
    {
     "data": {
      "image/png": "[encoded data removed]",
      "text/plain": [
       "<Figure size 640x480 with 1 Axes>"
      ]
     },
     "metadata": {},
     "output_type": "display_data"
    }
   ],
   "source": [
    "sns.boxplot(df['installment'])"
   ]
  },
  {
   "cell_type": "code",
   "execution_count": null,
   "id": "c883cfb5",
   "metadata": {},
   "outputs": [],
   "source": [
    "# Observation: Average installment ranges from 180 - 420 $"
   ]
  },
  {
   "cell_type": "code",
   "execution_count": 95,
   "id": "a75bcb60",
   "metadata": {},
   "outputs": [
    {
     "data": {
      "text/plain": [
       "<Axes: xlabel='annual_inc', ylabel='Density'>"
      ]
     },
     "execution_count": 95,
     "metadata": {},
     "output_type": "execute_result"
    },
    {
     "data": {
      "image/png": "[encoded data removed]",
      "text/plain": [
       "<Figure size 640x480 with 1 Axes>"
      ]
     },
     "metadata": {},
     "output_type": "display_data"
    }
   ],
   "source": [
    "sns.distplot(df['annual_inc'])"
   ]
  },
  {
   "cell_type": "code",
   "execution_count": 96,
   "id": "682ef8a4",
   "metadata": {},
   "outputs": [
    {
     "data": {
      "text/plain": [
       "<Axes: ylabel='annual_inc'>"
      ]
     },
     "execution_count": 96,
     "metadata": {},
     "output_type": "execute_result"
    },
    {
     "data": {
      "image/png": "[encoded data removed]",
      "text/plain": [
       "<Figure size 640x480 with 1 Axes>"
      ]
     },
     "metadata": {},
     "output_type": "display_data"
    }
   ],
   "source": [
    "sns.boxplot(y=df['annual_inc'])"
   ]
  },
  {
   "cell_type": "code",
   "execution_count": 97,
   "id": "1ecef223",
   "metadata": {},
   "outputs": [
    {
     "data": {
      "text/plain": [
       "60000.0     1472\n",
       "50000.0     1036\n",
       "40000.0      859\n",
       "45000.0      813\n",
       "75000.0      803\n",
       "            ... \n",
       "22188.0        1\n",
       "144240.0       1\n",
       "13800.0        1\n",
       "94860.0        1\n",
       "27376.0        1\n",
       "Name: annual_inc, Length: 5100, dtype: int64"
      ]
     },
     "execution_count": 97,
     "metadata": {},
     "output_type": "execute_result"
    }
   ],
   "source": [
    "df['annual_inc'].value_counts()"
   ]
  },
  {
   "cell_type": "code",
   "execution_count": 98,
   "id": "00722f21",
   "metadata": {},
   "outputs": [
    {
     "data": {
      "text/plain": [
       "<Axes: >"
      ]
     },
     "execution_count": 98,
     "metadata": {},
     "output_type": "execute_result"
    },
    {
     "data": {
      "image/png": "[encoded data removed]",
      "text/plain": [
       "<Figure size 640x480 with 1 Axes>"
      ]
     },
     "metadata": {},
     "output_type": "display_data"
    }
   ],
   "source": [
    "sns.boxplot(df['int_rate'])"
   ]
  },
  {
   "cell_type": "code",
   "execution_count": 99,
   "id": "218f9b15",
   "metadata": {},
   "outputs": [],
   "source": [
    "#Observation: Interest rates for loan are mostly between 9%-15%"
   ]
  },
  {
   "cell_type": "code",
   "execution_count": 100,
   "id": "28184790",
   "metadata": {},
   "outputs": [
    {
     "data": {
      "text/plain": [
       "0.0"
      ]
     },
     "execution_count": 100,
     "metadata": {},
     "output_type": "execute_result"
    }
   ],
   "source": [
    "df1['dti'].min()"
   ]
  },
  {
   "cell_type": "code",
   "execution_count": 101,
   "id": "8d2059c7",
   "metadata": {},
   "outputs": [
    {
     "data": {
      "text/plain": [
       "29.99"
      ]
     },
     "execution_count": 101,
     "metadata": {},
     "output_type": "execute_result"
    }
   ],
   "source": [
    "df1['dti'].max()"
   ]
  },
  {
   "cell_type": "code",
   "execution_count": 102,
   "id": "cd336599",
   "metadata": {},
   "outputs": [],
   "source": [
    "def fun4(n):\n",
    "    if n<5:\n",
    "        return 'low'\n",
    "    elif n>=5 and n<15:\n",
    "        return 'medium'\n",
    "    elif n>=15 and n<25:\n",
    "        return 'high'\n",
    "    elif n>=25:\n",
    "        return 'very high'"
   ]
  },
  {
   "cell_type": "code",
   "execution_count": 103,
   "id": "8eda07d3",
   "metadata": {},
   "outputs": [],
   "source": [
    "df1['dti']=df1['dti'].apply(lambda x:fun4(x))"
   ]
  },
  {
   "cell_type": "code",
   "execution_count": 104,
   "id": "601c6469",
   "metadata": {},
   "outputs": [
    {
     "data": {
      "text/plain": [
       "medium       17037\n",
       "high         15033\n",
       "low           4874\n",
       "very high      598\n",
       "Name: dti, dtype: int64"
      ]
     },
     "execution_count": 104,
     "metadata": {},
     "output_type": "execute_result"
    }
   ],
   "source": [
    "df1['dti'].value_counts()"
   ]
  },
  {
   "cell_type": "code",
   "execution_count": 105,
   "id": "8cd91fbf",
   "metadata": {},
   "outputs": [
    {
     "data": {
      "text/plain": [
       "<Axes: xlabel='count', ylabel='dti'>"
      ]
     },
     "execution_count": 105,
     "metadata": {},
     "output_type": "execute_result"
    },
    {
     "data": {
      "image/png": "[encoded data removed]",
      "text/plain": [
       "<Figure size 640x480 with 1 Axes>"
      ]
     },
     "metadata": {},
     "output_type": "display_data"
    }
   ],
   "source": [
    "sns.countplot(y=df1['dti'])"
   ]
  },
  {
   "cell_type": "code",
   "execution_count": 106,
   "id": "482df924",
   "metadata": {},
   "outputs": [
    {
     "data": {
      "text/plain": [
       "<Axes: >"
      ]
     },
     "execution_count": 106,
     "metadata": {},
     "output_type": "execute_result"
    },
    {
     "data": {
      "image/png": "[encoded data removed]",
      "text/plain": [
       "<Figure size 640x480 with 1 Axes>"
      ]
     },
     "metadata": {},
     "output_type": "display_data"
    }
   ],
   "source": [
    "sns.boxplot(df['dti'])"
   ]
  },
  {
   "cell_type": "code",
   "execution_count": null,
   "id": "aed2a36b",
   "metadata": {},
   "outputs": [],
   "source": [
    "#Observation: Most dti ranges from 8 to 18"
   ]
  },
  {
   "cell_type": "code",
   "execution_count": 107,
   "id": "b2f6151c",
   "metadata": {},
   "outputs": [
    {
     "data": {
      "text/plain": [
       "<Axes: xlabel='count', ylabel='term'>"
      ]
     },
     "execution_count": 107,
     "metadata": {},
     "output_type": "execute_result"
    },
    {
     "data": {
      "image/png": "[encoded data removed]",
      "text/plain": [
       "<Figure size 640x480 with 1 Axes>"
      ]
     },
     "metadata": {},
     "output_type": "display_data"
    }
   ],
   "source": [
    "sns.countplot(y=df1['term'])"
   ]
  },
  {
   "cell_type": "code",
   "execution_count": 108,
   "id": "1fd15e73",
   "metadata": {},
   "outputs": [
    {
     "data": {
      "text/plain": [
       "<Axes: xlabel='loan_status', ylabel='count'>"
      ]
     },
     "execution_count": 108,
     "metadata": {},
     "output_type": "execute_result"
    },
    {
     "data": {
      "image/png": "[encoded data removed]",
      "text/plain": [
       "<Figure size 640x480 with 1 Axes>"
      ]
     },
     "metadata": {},
     "output_type": "display_data"
    }
   ],
   "source": [
    "#Loan Status plot\n",
    "sns.countplot(x='loan_status', data=df)"
   ]
  },
  {
   "cell_type": "code",
   "execution_count": 109,
   "id": "86d999bb",
   "metadata": {},
   "outputs": [],
   "source": [
    "#Observations: Close to 15% of loans were charged off, ignoring the current loans"
   ]
  },
  {
   "cell_type": "code",
   "execution_count": null,
   "id": "680593a6",
   "metadata": {},
   "outputs": [],
   "source": []
  },
  {
   "cell_type": "code",
   "execution_count": 110,
   "id": "f551951c",
   "metadata": {},
   "outputs": [
    {
     "data": {
      "image/png": "[encoded data removed]",
      "text/plain": [
       "<Figure size 1200x800 with 1 Axes>"
      ]
     },
     "metadata": {},
     "output_type": "display_data"
    }
   ],
   "source": [
    "#State vs Charge off\n",
    "plt.figure(figsize=(12,8))\n",
    "ax=sns.countplot(x='addr_state', data=df1, hue='loan_status')\n",
    "ax.set_xticklabels(ax.get_xticklabels(), rotation=40, ha='right')\n",
    "plt.show()"
   ]
  },
  {
   "cell_type": "code",
   "execution_count": 111,
   "id": "6352028b",
   "metadata": {},
   "outputs": [],
   "source": [
    "#Observation: States like CA TX FL NY NJ has the maximum charge off"
   ]
  },
  {
   "cell_type": "code",
   "execution_count": 112,
   "id": "2b2bf038",
   "metadata": {},
   "outputs": [],
   "source": [
    "df2=df1[df1['loan_status']!='\"Fully Paid\"']"
   ]
  },
  {
   "cell_type": "code",
   "execution_count": 113,
   "id": "4a96d1a7",
   "metadata": {},
   "outputs": [
    {
     "data": {
      "image/png": "[encoded data removed]",
      "text/plain": [
       "<Figure size 1200x800 with 1 Axes>"
      ]
     },
     "metadata": {},
     "output_type": "display_data"
    }
   ],
   "source": [
    "plt.figure(figsize=(12,8))\n",
    "ax=sns.countplot(x='addr_state', data=df2, hue='loan_status')\n",
    "ax.set_xticklabels(ax.get_xticklabels(), rotation=40, ha='right')\n",
    "plt.show()"
   ]
  },
  {
   "cell_type": "code",
   "execution_count": 114,
   "id": "cce4efdf",
   "metadata": {},
   "outputs": [
    {
     "data": {
      "text/plain": [
       "CA    6767\n",
       "NY    3599\n",
       "FL    2694\n",
       "TX    2605\n",
       "NJ    1768\n",
       "IL    1442\n",
       "PA    1437\n",
       "VA    1340\n",
       "GA    1319\n",
       "MA    1267\n",
       "OH    1146\n",
       "MD    1005\n",
       "AZ     806\n",
       "WA     783\n",
       "CO     744\n",
       "NC     726\n",
       "CT     707\n",
       "MI     671\n",
       "MO     647\n",
       "MN     583\n",
       "NV     464\n",
       "SC     451\n",
       "WI     426\n",
       "OR     421\n",
       "AL     418\n",
       "LA     417\n",
       "KY     307\n",
       "OK     282\n",
       "UT     247\n",
       "KS     244\n",
       "AR     227\n",
       "DC     211\n",
       "RI     192\n",
       "NM     179\n",
       "WV     164\n",
       "HI     162\n",
       "NH     157\n",
       "DE     110\n",
       "MT      77\n",
       "AK      76\n",
       "WY      76\n",
       "SD      61\n",
       "VT      53\n",
       "MS      19\n",
       "TN      17\n",
       "IN       9\n",
       "ID       6\n",
       "IA       5\n",
       "NE       5\n",
       "ME       3\n",
       "Name: addr_state, dtype: int64"
      ]
     },
     "execution_count": 114,
     "metadata": {},
     "output_type": "execute_result"
    }
   ],
   "source": [
    "df2['addr_state'].value_counts()"
   ]
  },
  {
   "cell_type": "code",
   "execution_count": 115,
   "id": "47c5c6ea",
   "metadata": {},
   "outputs": [],
   "source": [
    "#df2= df2.drop(df2[df2['addr_state'].value_counts()<1000].index, axis=0)"
   ]
  },
  {
   "cell_type": "markdown",
   "id": "bc2ed59e",
   "metadata": {},
   "source": [
    "df2['loan_status']= df1['loan_status'].apply(lambda x: 0 if x!=\"Fully Paid\" )"
   ]
  },
  {
   "cell_type": "code",
   "execution_count": 116,
   "id": "d4b00210",
   "metadata": {},
   "outputs": [
    {
     "data": {
      "text/plain": [
       "<Axes: xlabel='count', ylabel='purpose'>"
      ]
     },
     "execution_count": 116,
     "metadata": {},
     "output_type": "execute_result"
    },
    {
     "data": {
      "image/png": "[encoded data removed]",
      "text/plain": [
       "<Figure size 640x480 with 1 Axes>"
      ]
     },
     "metadata": {},
     "output_type": "display_data"
    }
   ],
   "source": [
    "#Purpose of loan plot\n",
    "sns.countplot(y='purpose', data=df, hue='loan_status')"
   ]
  },
  {
   "cell_type": "code",
   "execution_count": 117,
   "id": "a354d073",
   "metadata": {},
   "outputs": [],
   "source": [
    "#Observations: Most of the loans wer taken for debt consolidation & credit card bills. Charge off is high for them as well."
   ]
  },
  {
   "cell_type": "code",
   "execution_count": 118,
   "id": "701074d8",
   "metadata": {},
   "outputs": [
    {
     "data": {
      "text/plain": [
       "<Axes: xlabel='count', ylabel='home_ownership'>"
      ]
     },
     "execution_count": 118,
     "metadata": {},
     "output_type": "execute_result"
    },
    {
     "data": {
      "image/png": "[encoded data removed]",
      "text/plain": [
       "<Figure size 640x480 with 1 Axes>"
      ]
     },
     "metadata": {},
     "output_type": "display_data"
    }
   ],
   "source": [
    "#Home Ownership\n",
    "sns.countplot(y='home_ownership', data=df, hue='loan_status')"
   ]
  },
  {
   "cell_type": "code",
   "execution_count": 119,
   "id": "1b3120d8",
   "metadata": {},
   "outputs": [],
   "source": [
    "#Observations: Most of the applicats are either staying in rented property or mortgazed their home. Since applicants are high in these segments so is the Charge off."
   ]
  },
  {
   "cell_type": "code",
   "execution_count": 120,
   "id": "7a3692c8",
   "metadata": {},
   "outputs": [
    {
     "data": {
      "text/plain": [
       "<Axes: xlabel='term', ylabel='count'>"
      ]
     },
     "execution_count": 120,
     "metadata": {},
     "output_type": "execute_result"
    },
    {
     "data": {
      "image/png": "[encoded data removed]",
      "text/plain": [
       "<Figure size 640x480 with 1 Axes>"
      ]
     },
     "metadata": {},
     "output_type": "display_data"
    }
   ],
   "source": [
    "#Loan paying term\n",
    "sns.countplot(x=\"term\", data=df, hue='loan_status')"
   ]
  },
  {
   "cell_type": "code",
   "execution_count": 121,
   "id": "cd0c7549",
   "metadata": {},
   "outputs": [],
   "source": [
    "# Observation: Charge off in 60 months loan is higher for the number of applicants"
   ]
  },
  {
   "cell_type": "code",
   "execution_count": 122,
   "id": "2bd04ff3",
   "metadata": {},
   "outputs": [],
   "source": [
    "## Overall Observations\n",
    "#Bivariate Observations\n",
    "\n",
    "# Grade D-G tend to charged off\n",
    "# Longer the term increases the chance of charged off\n",
    "# Home ownership dosen't directly relate to charged off\n",
    "# Higher the loan amount higher the chance of charged off for loans above 20K\n",
    "# Higher the interest rate higher the chance of charged off mainly above 15%\n",
    "# Lower the income higher the chance of charged off\n",
    "# Loans on Small Business, Educational and Renewable Energy higher the chance of charged off\n",
    "# Installment amount between 500 - 1000 $ has a higher chance of charged off\n",
    "\n",
    "#Univariate Observations\n",
    "# Interest rates for loan are mostly between 10%-15%\n",
    "# Close to 14% of loans were charged off\n",
    "# Most of the loans wer taken for debt consolidation & credit card bills. Charge off is high for them as well.\n",
    "# Most of the applicants are either staying in rented property or mortgaged their home. Since applicants are high in these segments so is the Charge off.\n",
    "# States like CA TX FL NY NJ has the maximum charge off\n",
    "# Charge off in 60 months loan is higher for the number of applicants"
   ]
  },
  {
   "cell_type": "code",
   "execution_count": null,
   "id": "aa3d8192",
   "metadata": {},
   "outputs": [],
   "source": []
  },
  {
   "cell_type": "code",
   "execution_count": null,
   "id": "1b180fd7",
   "metadata": {},
   "outputs": [],
   "source": []
  },
  {
   "cell_type": "code",
   "execution_count": null,
   "id": "ad2219ef",
   "metadata": {},
   "outputs": [],
   "source": []
  }
 ],
 "metadata": {
  "kernelspec": {
   "display_name": "Python 3 (ipykernel)",
   "language": "python",
   "name": "python3"
  },
  "language_info": {
   "codemirror_mode": {
    "name": "ipython",
    "version": 3
   },
   "file_extension": ".py",
   "mimetype": "text/x-python",
   "name": "python",
   "nbconvert_exporter": "python",
   "pygments_lexer": "ipython3",
   "version": "3.10.9"
  }
 },
 "nbformat": 4,
 "nbformat_minor": 5
}
